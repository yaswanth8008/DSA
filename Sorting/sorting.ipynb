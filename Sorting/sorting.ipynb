{
 "cells": [
  {
   "cell_type": "code",
   "execution_count": 5,
   "metadata": {},
   "outputs": [],
   "source": [
    "def solve(A):\n",
    "    A.sort()\n",
    "    for i in range(len(A)-1,-1,-1):\n",
    "        if A[i] != A[i-1]:\n",
    "            return A[i-1]\n",
    "        else:\n",
    "            continue\n",
    "    return 0"
   ]
  },
  {
   "cell_type": "code",
   "execution_count": 7,
   "metadata": {},
   "outputs": [
    {
     "data": {
      "text/plain": [
       "1"
      ]
     },
     "execution_count": 7,
     "metadata": {},
     "output_type": "execute_result"
    }
   ],
   "source": [
    "solve([1,1,5,5,5,5])"
   ]
  },
  {
   "cell_type": "code",
   "execution_count": 9,
   "metadata": {},
   "outputs": [],
   "source": [
    "def solve(A):\n",
    "    cnt = 0\n",
    "    A = sorted(A)\n",
    "    for i in range(1,len(A)):\n",
    "        if A[i-1] == A[i]:\n",
    "            cnt += 1\n",
    "            A[i] += 1\n",
    "            \n",
    "    return cnt,A"
   ]
  },
  {
   "cell_type": "code",
   "execution_count": 10,
   "metadata": {},
   "outputs": [
    {
     "data": {
      "text/plain": [
       "(4, [5, 6, 7, 8, 9, 10, 11])"
      ]
     },
     "execution_count": 10,
     "metadata": {},
     "output_type": "execute_result"
    }
   ],
   "source": [
    "solve([5,6,7,7,8,9,10])"
   ]
  },
  {
   "cell_type": "code",
   "execution_count": 12,
   "metadata": {},
   "outputs": [
    {
     "data": {
      "text/plain": [
       "(0, [2, 4, 5])"
      ]
     },
     "execution_count": 12,
     "metadata": {},
     "output_type": "execute_result"
    }
   ],
   "source": [
    "solve([2,4,5])"
   ]
  },
  {
   "cell_type": "code",
   "execution_count": 29,
   "metadata": {},
   "outputs": [],
   "source": [
    "def solve(A):\n",
    "    def merge_inversions(arr,s,e,m):\n",
    "     \n",
    "        p1 = s \n",
    "        p2 = m+1\n",
    "        p3 = 0\n",
    "        temp_arr = [0]*(e-s+1)\n",
    "\n",
    "        cnt = 0\n",
    "        while p1 <= m and p2 <= e:\n",
    "            if A[p1] <= A[p2]:\n",
    "                temp_arr[p3] = A[p1]\n",
    "                p1 += 1\n",
    "                p3 += 1\n",
    "            else:\n",
    "                temp_arr[p3] = A[p2]\n",
    "                p2 += 1\n",
    "                p3 += 1\n",
    "                cnt += m - p1 + 1\n",
    "        while p1 <= m:\n",
    "            temp_arr[p3] = A[p1]\n",
    "            p1 += 1\n",
    "            p3 += 1\n",
    "        while p2 <= e:\n",
    "            temp_arr[p3] = A[p2]\n",
    "            p2 += 1\n",
    "            p3 += 1\n",
    "        for i in range(len(temp_arr)):\n",
    "            A[i+s] = temp_arr[i]\n",
    "\n",
    "        return cnt \n",
    "    def inversion_count(arr,s,e):\n",
    "        if s == e:\n",
    "            return 0\n",
    "        m = (s+e)//2\n",
    "        left = inversion_count(arr,s,m)\n",
    "        right = inversion_count(arr,m+1,e)\n",
    "        merged = merge_inversions(arr,s,e,m)\n",
    "        return left + right + merged \n",
    "    start = 0\n",
    "    end = len(A) - 1\n",
    "    ans = inversion_count(A,start,end)\n",
    "    return ans "
   ]
  },
  {
   "cell_type": "code",
   "execution_count": 30,
   "metadata": {},
   "outputs": [
    {
     "ename": "TypeError",
     "evalue": "'NoneType' object is not subscriptable",
     "output_type": "error",
     "traceback": [
      "\u001b[0;31m---------------------------------------------------------------------------\u001b[0m",
      "\u001b[0;31mTypeError\u001b[0m                                 Traceback (most recent call last)",
      "Cell \u001b[0;32mIn[30], line 1\u001b[0m\n\u001b[0;32m----> 1\u001b[0m solve([\u001b[39m6\u001b[39;49m,\u001b[39m2\u001b[39;49m,\u001b[39m9\u001b[39;49m,\u001b[39m3\u001b[39;49m,\u001b[39m5\u001b[39;49m])\n",
      "Cell \u001b[0;32mIn[29], line 25\u001b[0m, in \u001b[0;36msolve\u001b[0;34m(A)\u001b[0m\n\u001b[1;32m     23\u001b[0m start \u001b[39m=\u001b[39m \u001b[39m0\u001b[39m\n\u001b[1;32m     24\u001b[0m end \u001b[39m=\u001b[39m \u001b[39mlen\u001b[39m(A) \u001b[39m-\u001b[39m \u001b[39m1\u001b[39m\n\u001b[0;32m---> 25\u001b[0m ans \u001b[39m=\u001b[39m inversion_count(A,start,end)\n\u001b[1;32m     26\u001b[0m \u001b[39mreturn\u001b[39;00m ans\n",
      "Cell \u001b[0;32mIn[29], line 21\u001b[0m, in \u001b[0;36msolve.<locals>.inversion_count\u001b[0;34m(arr, s, e)\u001b[0m\n\u001b[1;32m     19\u001b[0m left \u001b[39m=\u001b[39m inversion_count(arr,s,m)\n\u001b[1;32m     20\u001b[0m right \u001b[39m=\u001b[39m inversion_count(arr,m\u001b[39m+\u001b[39m\u001b[39m1\u001b[39m,e)\n\u001b[0;32m---> 21\u001b[0m merged \u001b[39m=\u001b[39m merge_inversions(arr,s,e,m)\n\u001b[1;32m     22\u001b[0m \u001b[39mreturn\u001b[39;00m left \u001b[39m+\u001b[39m right \u001b[39m+\u001b[39m merged\n",
      "Cell \u001b[0;32mIn[29], line 9\u001b[0m, in \u001b[0;36msolve.<locals>.merge_inversions\u001b[0;34m(arr, s, e, m)\u001b[0m\n\u001b[1;32m      7\u001b[0m cnt \u001b[39m=\u001b[39m \u001b[39m0\u001b[39m\n\u001b[1;32m      8\u001b[0m \u001b[39mwhile\u001b[39;00m p1 \u001b[39m<\u001b[39m m \u001b[39mand\u001b[39;00m p2 \u001b[39m<\u001b[39m e:\n\u001b[0;32m----> 9\u001b[0m     \u001b[39mif\u001b[39;00m arr1[p1] \u001b[39m<\u001b[39m\u001b[39m=\u001b[39m arr2[p2]:\n\u001b[1;32m     10\u001b[0m         p1 \u001b[39m+\u001b[39m\u001b[39m=\u001b[39m \u001b[39m1\u001b[39m\n\u001b[1;32m     11\u001b[0m     \u001b[39melse\u001b[39;00m:\n",
      "\u001b[0;31mTypeError\u001b[0m: 'NoneType' object is not subscriptable"
     ]
    }
   ],
   "source": [
    "solve([6,2,9,3,5])"
   ]
  },
  {
   "cell_type": "code",
   "execution_count": 35,
   "metadata": {},
   "outputs": [],
   "source": [
    "def merge_inversions(A,s,e,m):\n",
    "    p1 = s \n",
    "    p2 = m+1\n",
    "    p3 = 0\n",
    "    temp_arr = [0]*(e-s+1)\n",
    "\n",
    "    cnt = 0\n",
    "    while p1 <= m and p2 <= e:\n",
    "        if A[p1] <= A[p2]:\n",
    "            temp_arr[p3] = A[p1]\n",
    "            p1 += 1\n",
    "            p3 += 1\n",
    "        else:\n",
    "            temp_arr[p3] = A[p2]\n",
    "            p2 += 1\n",
    "            p3 += 1\n",
    "            cnt += m - p1 + 1\n",
    "    while p1 <= m:\n",
    "        temp_arr[p3] = A[p1]\n",
    "        p1 += 1\n",
    "        p3 += 1\n",
    "    while p2 <= e:\n",
    "        temp_arr[p3] = A[p2]\n",
    "        p2 += 1\n",
    "        p3 += 1\n",
    "    for i in range(len(temp_arr)):\n",
    "        A[i+s] = temp_arr[i]\n",
    "\n",
    "    return A"
   ]
  },
  {
   "cell_type": "code",
   "execution_count": 36,
   "metadata": {},
   "outputs": [
    {
     "data": {
      "text/plain": [
       "[-1, 1, 4, 6, 11, 2, 3, 5, 7, 11, 21, 23]"
      ]
     },
     "execution_count": 36,
     "metadata": {},
     "output_type": "execute_result"
    }
   ],
   "source": [
    "merge_inversions([-1,11,2,3,5,7,1,4,6,11,21,23],0,11,5)"
   ]
  },
  {
   "cell_type": "code",
   "execution_count": 75,
   "metadata": {},
   "outputs": [],
   "source": [
    "def solve(A, B):\n",
    "    def euclidean_dist(p):\n",
    "        return p[0]**2+p[1]**2\n",
    "    \n",
    "    \n",
    "    for i in A:\n",
    "        i.append(euclidean_dist(i))\n",
    "    return A"
   ]
  },
  {
   "cell_type": "code",
   "execution_count": 76,
   "metadata": {},
   "outputs": [],
   "source": [
    " A = [ \n",
    "       [1, 3],\n",
    "       [-2, 2] \n",
    "     ]\n",
    " B = 1"
   ]
  },
  {
   "cell_type": "code",
   "execution_count": 77,
   "metadata": {},
   "outputs": [
    {
     "data": {
      "text/plain": [
       "[[1, 3, 10], [-2, 2, 8]]"
      ]
     },
     "execution_count": 77,
     "metadata": {},
     "output_type": "execute_result"
    }
   ],
   "source": [
    "solve(A,B)"
   ]
  },
  {
   "cell_type": "code",
   "execution_count": 72,
   "metadata": {},
   "outputs": [
    {
     "data": {
      "text/plain": [
       "3725"
      ]
     },
     "execution_count": 72,
     "metadata": {},
     "output_type": "execute_result"
    }
   ],
   "source": [
    "50**2 + 35**2"
   ]
  },
  {
   "cell_type": "code",
   "execution_count": 73,
   "metadata": {},
   "outputs": [
    {
     "data": {
      "text/plain": [
       "8065"
      ]
     },
     "execution_count": 73,
     "metadata": {},
     "output_type": "execute_result"
    }
   ],
   "source": [
    "63**2 + 64**2"
   ]
  },
  {
   "cell_type": "code",
   "execution_count": null,
   "metadata": {},
   "outputs": [],
   "source": []
  }
 ],
 "metadata": {
  "kernelspec": {
   "display_name": "Python 3",
   "language": "python",
   "name": "python3"
  },
  "language_info": {
   "codemirror_mode": {
    "name": "ipython",
    "version": 3
   },
   "file_extension": ".py",
   "mimetype": "text/x-python",
   "name": "python",
   "nbconvert_exporter": "python",
   "pygments_lexer": "ipython3",
   "version": "3.9.6"
  },
  "orig_nbformat": 4,
  "vscode": {
   "interpreter": {
    "hash": "31f2aee4e71d21fbe5cf8b01ff0e069b9275f58929596ceb00d14d90e3e16cd6"
   }
  }
 },
 "nbformat": 4,
 "nbformat_minor": 2
}
