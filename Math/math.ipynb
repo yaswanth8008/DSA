{
 "cells": [
  {
   "attachments": {},
   "cell_type": "markdown",
   "metadata": {},
   "source": [
    "#### 1. Pair Sum divisible by M\n"
   ]
  },
  {
   "cell_type": "code",
   "execution_count": 7,
   "metadata": {},
   "outputs": [],
   "source": [
    "# https://www.geeksforgeeks.org/problems/count-pairs-in-array-divisible-by-k/1?itm_source=geeksforgeeks"
   ]
  },
  {
   "cell_type": "code",
   "execution_count": 3,
   "metadata": {},
   "outputs": [
    {
     "data": {
      "text/plain": [
       "3"
      ]
     },
     "execution_count": 3,
     "metadata": {},
     "output_type": "execute_result"
    }
   ],
   "source": [
    "def solve(A, B):\n",
    "    for i in range(len(A)):\n",
    "        A[i] = A[i]%B\n",
    "    freq = [0]*(B)\n",
    "    for i in range(len(A)):\n",
    "        index = A[i]\n",
    "        freq[index] += 1\n",
    "    count = 0\n",
    "    count += freq[0]*(freq[0]-1)/2\n",
    "    n = (B//2)+1\n",
    "    for i in range(1,n):\n",
    "        j = B - i \n",
    "        if i == j:\n",
    "            count += freq[i]*(freq[i]-1)/2\n",
    "        else:\n",
    "            count += freq[i]*freq[j]\n",
    "    return int(count)%(10**9+7)\n",
    "\n",
    "solve([5,4,5,4,5,4],10)"
   ]
  },
  {
   "attachments": {},
   "cell_type": "markdown",
   "metadata": {},
   "source": [
    "### 2. Rearrange Array"
   ]
  },
  {
   "cell_type": "code",
   "execution_count": 2,
   "metadata": {},
   "outputs": [
    {
     "data": {
      "text/plain": [
       "[1, 4, 0, 2, 3]"
      ]
     },
     "execution_count": 2,
     "metadata": {},
     "output_type": "execute_result"
    }
   ],
   "source": [
    "# https://www.interviewbit.com/problems/rearrange-array/\n",
    "\n",
    "def arrange(A):\n",
    "    n = len(A)\n",
    "    for i in range(len(A)):\n",
    "        A[i] = A[i]*n \n",
    "    for i in range(len(A)):\n",
    "        #A[i] = A[A[i]]\n",
    "        index = A[i]//n\n",
    "        new_value = A[index]//n\n",
    "        A[i] += new_value\n",
    "    for i in range(len(A)):\n",
    "        A[i] = A[i]%n \n",
    "    return A \n",
    "\n",
    "arrange([3,2,4,1,0])\n",
    "\n"
   ]
  },
  {
   "attachments": {},
   "cell_type": "markdown",
   "metadata": {},
   "source": [
    "### 3. A,B and Modulo"
   ]
  },
  {
   "cell_type": "code",
   "execution_count": 6,
   "metadata": {},
   "outputs": [
    {
     "data": {
      "text/plain": [
       "6"
      ]
     },
     "execution_count": 6,
     "metadata": {},
     "output_type": "execute_result"
    }
   ],
   "source": [
    "# Given two integers A and B, find the greatest possible positive integer M, such that A % M = B % M.\n",
    "\n",
    "def solve(A, B):\n",
    "    if A - B > 0:\n",
    "        return A - B \n",
    "    else:\n",
    "        return B - A\n",
    "    \n",
    "solve(16,10)\n"
   ]
  },
  {
   "cell_type": "code",
   "execution_count": null,
   "metadata": {},
   "outputs": [],
   "source": []
  }
 ],
 "metadata": {
  "kernelspec": {
   "display_name": "Python 3",
   "language": "python",
   "name": "python3"
  },
  "language_info": {
   "codemirror_mode": {
    "name": "ipython",
    "version": 3
   },
   "file_extension": ".py",
   "mimetype": "text/x-python",
   "name": "python",
   "nbconvert_exporter": "python",
   "pygments_lexer": "ipython3",
   "version": "3.9.6"
  },
  "orig_nbformat": 4,
  "vscode": {
   "interpreter": {
    "hash": "31f2aee4e71d21fbe5cf8b01ff0e069b9275f58929596ceb00d14d90e3e16cd6"
   }
  }
 },
 "nbformat": 4,
 "nbformat_minor": 2
}
