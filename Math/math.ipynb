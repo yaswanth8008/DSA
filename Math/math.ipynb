{
 "cells": [
  {
   "attachments": {},
   "cell_type": "markdown",
   "metadata": {},
   "source": [
    "#### 1. Pair Sum divisible by M\n"
   ]
  },
  {
   "cell_type": "code",
   "execution_count": 7,
   "metadata": {},
   "outputs": [],
   "source": [
    "# https://www.geeksforgeeks.org/problems/count-pairs-in-array-divisible-by-k/1?itm_source=geeksforgeeks"
   ]
  },
  {
   "cell_type": "code",
   "execution_count": 3,
   "metadata": {},
   "outputs": [
    {
     "data": {
      "text/plain": [
       "3"
      ]
     },
     "execution_count": 3,
     "metadata": {},
     "output_type": "execute_result"
    }
   ],
   "source": [
    "def solve(A, B):\n",
    "    for i in range(len(A)):\n",
    "        A[i] = A[i]%B\n",
    "    freq = [0]*(B)\n",
    "    for i in range(len(A)):\n",
    "        index = A[i]\n",
    "        freq[index] += 1\n",
    "    count = 0\n",
    "    count += freq[0]*(freq[0]-1)/2\n",
    "    n = (B//2)+1\n",
    "    for i in range(1,n):\n",
    "        j = B - i \n",
    "        if i == j:\n",
    "            count += freq[i]*(freq[i]-1)/2\n",
    "        else:\n",
    "            count += freq[i]*freq[j]\n",
    "    return int(count)%(10**9+7)\n",
    "\n",
    "solve([5,4,5,4,5,4],10)"
   ]
  },
  {
   "attachments": {},
   "cell_type": "markdown",
   "metadata": {},
   "source": [
    "### 2. Rearrange Array"
   ]
  },
  {
   "cell_type": "code",
   "execution_count": 2,
   "metadata": {},
   "outputs": [
    {
     "data": {
      "text/plain": [
       "[1, 4, 0, 2, 3]"
      ]
     },
     "execution_count": 2,
     "metadata": {},
     "output_type": "execute_result"
    }
   ],
   "source": [
    "# https://www.interviewbit.com/problems/rearrange-array/\n",
    "\n",
    "def arrange(A):\n",
    "    n = len(A)\n",
    "    for i in range(len(A)):\n",
    "        A[i] = A[i]*n \n",
    "    for i in range(len(A)):\n",
    "        #A[i] = A[A[i]]\n",
    "        index = A[i]//n\n",
    "        new_value = A[index]//n\n",
    "        A[i] += new_value\n",
    "    for i in range(len(A)):\n",
    "        A[i] = A[i]%n \n",
    "    return A \n",
    "\n",
    "arrange([3,2,4,1,0])\n",
    "\n"
   ]
  },
  {
   "attachments": {},
   "cell_type": "markdown",
   "metadata": {},
   "source": [
    "### 3. A,B and Modulo"
   ]
  },
  {
   "cell_type": "code",
   "execution_count": 6,
   "metadata": {},
   "outputs": [
    {
     "data": {
      "text/plain": [
       "6"
      ]
     },
     "execution_count": 6,
     "metadata": {},
     "output_type": "execute_result"
    }
   ],
   "source": [
    "# Given two integers A and B, find the greatest possible positive integer M, such that A % M = B % M.\n",
    "\n",
    "def solve(A, B):\n",
    "    if A - B > 0:\n",
    "        return A - B \n",
    "    else:\n",
    "        return B - A\n",
    "    \n",
    "solve(16,10)\n"
   ]
  },
  {
   "cell_type": "code",
   "execution_count": null,
   "metadata": {},
   "outputs": [],
   "source": []
  },
  {
   "cell_type": "code",
   "execution_count": 33,
   "metadata": {},
   "outputs": [
    {
     "data": {
      "text/plain": [
       "19"
      ]
     },
     "execution_count": 33,
     "metadata": {},
     "output_type": "execute_result"
    }
   ],
   "source": [
    "def pow(A, B, C):\n",
    "    # Just write your code below to complete the function. Required input is available to you as the function arguments.\n",
    "    # Do not print the result or any output. Just return the result via this function.\n",
    "    if A == 0:\n",
    "        return 0\n",
    "    if B == 0:\n",
    "        return 1\n",
    "    p = pow(A,B//2,C)\n",
    "    if p % 2 == 0:\n",
    "        return (p*p)%C \n",
    "    else:\n",
    "        return (p*p*A)%C\n",
    "       \n",
    "pow(-1,2,20)"
   ]
  },
  {
   "cell_type": "code",
   "execution_count": 35,
   "metadata": {},
   "outputs": [
    {
     "data": {
      "text/plain": [
       "4"
      ]
     },
     "execution_count": 35,
     "metadata": {},
     "output_type": "execute_result"
    }
   ],
   "source": [
    "def solve(A, B):\n",
    "    def power(A,B,C):\n",
    "        if B == 0:\n",
    "            return 1 \n",
    "        p = power(A,B//2,C)\n",
    "        if B%2 == 0:\n",
    "            return (p*p)%C\n",
    "        else:\n",
    "            return (p*p*A)%C\n",
    "    return power(A,B-2,B)\n",
    "solve(6,23)"
   ]
  },
  {
   "cell_type": "code",
   "execution_count": 27,
   "metadata": {},
   "outputs": [
    {
     "data": {
      "text/plain": [
       "-243"
      ]
     },
     "execution_count": 27,
     "metadata": {},
     "output_type": "execute_result"
    }
   ],
   "source": [
    "81*-3"
   ]
  },
  {
   "cell_type": "code",
   "execution_count": 28,
   "metadata": {},
   "outputs": [
    {
     "data": {
      "text/plain": [
       "7"
      ]
     },
     "execution_count": 28,
     "metadata": {},
     "output_type": "execute_result"
    }
   ],
   "source": [
    "-243%10"
   ]
  },
  {
   "cell_type": "code",
   "execution_count": null,
   "metadata": {},
   "outputs": [],
   "source": []
  },
  {
   "cell_type": "code",
   "execution_count": null,
   "metadata": {},
   "outputs": [],
   "source": []
  },
  {
   "cell_type": "code",
   "execution_count": 7,
   "metadata": {},
   "outputs": [],
   "source": [
    "def gcd(a,b):\n",
    "    if b == 0:\n",
    "        return a \n",
    "    else:\n",
    "        return gcd(b,a%b)"
   ]
  },
  {
   "cell_type": "code",
   "execution_count": 9,
   "metadata": {},
   "outputs": [
    {
     "name": "stdout",
     "output_type": "stream",
     "text": [
      "1\n",
      "3\n",
      "1\n",
      "1\n",
      "2\n"
     ]
    }
   ],
   "source": [
    "arr = [24,16,18,30,15]\n",
    "for i in range(len(arr)):\n",
    "    ans = 0\n",
    "    for j in range(len(arr)):\n",
    "        if i == j:\n",
    "            continue \n",
    "        \n",
    "        ans = gcd(ans,arr[j])\n",
    "    print(ans)"
   ]
  },
  {
   "cell_type": "code",
   "execution_count": 48,
   "metadata": {},
   "outputs": [
    {
     "data": {
      "text/plain": [
       "120"
      ]
     },
     "execution_count": 48,
     "metadata": {},
     "output_type": "execute_result"
    }
   ],
   "source": [
    "def fact(n):\n",
    "    if n == 0:\n",
    "        return 1\n",
    "    else:\n",
    "        return n*fact(n-1)\n",
    "\n",
    "fact(5)\n"
   ]
  },
  {
   "cell_type": "code",
   "execution_count": 45,
   "metadata": {},
   "outputs": [
    {
     "data": {
      "text/plain": [
       "5"
      ]
     },
     "execution_count": 45,
     "metadata": {},
     "output_type": "execute_result"
    }
   ],
   "source": [
    "def fact(n,m):\n",
    "    if n == 1:\n",
    "        return 1\n",
    "    else:\n",
    "        return (n*fact(n-1,m))%m\n",
    "\n",
    "fact(8,11)"
   ]
  },
  {
   "cell_type": "code",
   "execution_count": 49,
   "metadata": {},
   "outputs": [
    {
     "data": {
      "text/plain": [
       "9054199"
      ]
     },
     "execution_count": 49,
     "metadata": {},
     "output_type": "execute_result"
    }
   ],
   "source": [
    "import sys\n",
    "sys.setrecursionlimit(1000000)\n",
    "\n",
    "def solve(A, B, C):\n",
    "    def fact(n,m):\n",
    "        f = 1\n",
    "        for i in range(1,n+1):\n",
    "            f = (f%m*i%m)%m \n",
    "        return f\n",
    "\n",
    "    def pow(a,b,c):\n",
    "        if b == 0:\n",
    "            return 1 \n",
    "        p = pow(a,b//2,c)\n",
    "        if b%2 == 0:\n",
    "            return (p*p)%c \n",
    "        else:\n",
    "            return(a*p*p)%c \n",
    "    p1 = fact(A,C)\n",
    "    p2 = fact(A-B,C)\n",
    "    p3 = fact(B,C)\n",
    "    p4 = (p2*p3)%C\n",
    "    if C > 1:\n",
    "        return (p1%C*pow(p4,C-2,C)%C)%C\n",
    "    else:\n",
    "        return A%C\n",
    "        \n",
    "solve(700354,397230,15050351)\n",
    "        \n"
   ]
  },
  {
   "cell_type": "code",
   "execution_count": 64,
   "metadata": {},
   "outputs": [
    {
     "data": {
      "text/plain": [
       "[100, 50, 4, 5]"
      ]
     },
     "execution_count": 64,
     "metadata": {},
     "output_type": "execute_result"
    }
   ],
   "source": [
    "def cpFact(A, B):\n",
    "    def gcd(a,b):\n",
    "        if b == 0:\n",
    "            return a \n",
    "        else:\n",
    "            return gcd(b,a%b)\n",
    "    if A == B:\n",
    "        return 1\n",
    "    elif gcd(A,B) == 1:\n",
    "        return A \n",
    "    else:\n",
    "        l = []\n",
    "        for i in range(1,int(A**0.5)):\n",
    "            if A%i == 0:\n",
    "                if B%(i) != 0:\n",
    "                    if gcd(B,i) == 1:\n",
    "                        l.append(i)\n",
    "                elif B%(A//i) != 0:\n",
    "                    l.append(A//i)\n",
    "        \n",
    "    return l\n",
    "cpFact(100,26)\n"
   ]
  },
  {
   "cell_type": "code",
   "execution_count": 81,
   "metadata": {},
   "outputs": [
    {
     "data": {
      "text/plain": [
       "8"
      ]
     },
     "execution_count": 81,
     "metadata": {},
     "output_type": "execute_result"
    }
   ],
   "source": [
    "def solve(A):\n",
    "    n = A+1\n",
    "    pf_ar = [0]*n\n",
    "    for i in range(1,n):\n",
    "        pf_ar[i] = i \n",
    "    pf_ar1 = [0]*n\n",
    "    for i in range(2,n):\n",
    "        if pf_ar[i] == i:\n",
    "            for k in range(2*i,n,i):\n",
    "                pf_ar[k] = i\n",
    "                pf_ar1[k] += 1\n",
    "    cnt = 0\n",
    "    for i in range(1,n):\n",
    "        if pf_ar1[i] == 2:\n",
    "            cnt += 1\n",
    "    return cnt\n",
    "\n",
    "solve(21)"
   ]
  },
  {
   "cell_type": "code",
   "execution_count": null,
   "metadata": {},
   "outputs": [],
   "source": []
  }
 ],
 "metadata": {
  "kernelspec": {
   "display_name": "Python 3",
   "language": "python",
   "name": "python3"
  },
  "language_info": {
   "codemirror_mode": {
    "name": "ipython",
    "version": 3
   },
   "file_extension": ".py",
   "mimetype": "text/x-python",
   "name": "python",
   "nbconvert_exporter": "python",
   "pygments_lexer": "ipython3",
   "version": "3.9.6"
  },
  "orig_nbformat": 4,
  "vscode": {
   "interpreter": {
    "hash": "31f2aee4e71d21fbe5cf8b01ff0e069b9275f58929596ceb00d14d90e3e16cd6"
   }
  }
 },
 "nbformat": 4,
 "nbformat_minor": 2
}
