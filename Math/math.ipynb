{
 "cells": [
  {
   "attachments": {},
   "cell_type": "markdown",
   "metadata": {},
   "source": [
    "#### 1. Pair Sum divisible by M\n"
   ]
  },
  {
   "cell_type": "code",
   "execution_count": 7,
   "metadata": {},
   "outputs": [],
   "source": [
    "# https://www.geeksforgeeks.org/problems/count-pairs-in-array-divisible-by-k/1?itm_source=geeksforgeeks"
   ]
  },
  {
   "cell_type": "code",
   "execution_count": 1,
   "metadata": {},
   "outputs": [],
   "source": [
    "def solve(A, B):\n",
    "    for i in range(len(A)):\n",
    "        A[i] = A[i]%B\n",
    "    freq = [0]*(B)\n",
    "    for i in range(len(A)):\n",
    "        index = A[i]\n",
    "        freq[index] += 1\n",
    "    count = 0\n",
    "    count += freq[0]*(freq[0]-1)/2\n",
    "    n = (B//2)+1\n",
    "    for i in range(1,n):\n",
    "        j = B - i \n",
    "        if i == j:\n",
    "            count += freq[i]*(freq[i]-1)/2\n",
    "        else:\n",
    "            count += freq[i]*freq[j]\n",
    "    return int(count)%(10**9+7)"
   ]
  },
  {
   "cell_type": "code",
   "execution_count": 2,
   "metadata": {},
   "outputs": [
    {
     "data": {
      "text/plain": [
       "3"
      ]
     },
     "execution_count": 2,
     "metadata": {},
     "output_type": "execute_result"
    }
   ],
   "source": [
    "solve([5,4,5,4,5,4],10)"
   ]
  },
  {
   "cell_type": "code",
   "execution_count": null,
   "metadata": {},
   "outputs": [],
   "source": []
  }
 ],
 "metadata": {
  "kernelspec": {
   "display_name": "Python 3",
   "language": "python",
   "name": "python3"
  },
  "language_info": {
   "codemirror_mode": {
    "name": "ipython",
    "version": 3
   },
   "file_extension": ".py",
   "mimetype": "text/x-python",
   "name": "python",
   "nbconvert_exporter": "python",
   "pygments_lexer": "ipython3",
   "version": "3.9.6"
  },
  "orig_nbformat": 4,
  "vscode": {
   "interpreter": {
    "hash": "31f2aee4e71d21fbe5cf8b01ff0e069b9275f58929596ceb00d14d90e3e16cd6"
   }
  }
 },
 "nbformat": 4,
 "nbformat_minor": 2
}
