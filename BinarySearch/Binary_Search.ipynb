{
 "cells": [
  {
   "cell_type": "code",
   "execution_count": null,
   "metadata": {},
   "outputs": [],
   "source": []
  },
  {
   "cell_type": "code",
   "execution_count": 18,
   "metadata": {},
   "outputs": [],
   "source": [
    "def check(arr,k,B):\n",
    "    # This array checks if there is any sub-array of size k whose sum <= B exists\n",
    "    n = len(arr)\n",
    "    summ = 0\n",
    "    cnt = 0\n",
    "    for i in range(k):\n",
    "        summ += arr[i]\n",
    "    if summ <= B:\n",
    "        cnt += 1\n",
    "    print(summ)\n",
    "    for s in range(1,n - k + 1):\n",
    "        summ -= arr[s-1]\n",
    "        summ += arr[s+k-1]\n",
    "        print(summ)\n",
    "        if summ <= B:\n",
    "            cnt += 1 \n",
    "    print(cnt)\n",
    "    if cnt == n - k + 1:\n",
    "        return True\n",
    "    else:\n",
    "        return False "
   ]
  },
  {
   "cell_type": "code",
   "execution_count": 19,
   "metadata": {},
   "outputs": [
    {
     "name": "stdout",
     "output_type": "stream",
     "text": [
      "3\n",
      "5\n",
      "7\n",
      "9\n",
      "4\n"
     ]
    },
    {
     "data": {
      "text/plain": [
       "True"
      ]
     },
     "execution_count": 19,
     "metadata": {},
     "output_type": "execute_result"
    }
   ],
   "source": [
    "check([1,2,3,4,5],2,10)"
   ]
  },
  {
   "cell_type": "code",
   "execution_count": 30,
   "metadata": {},
   "outputs": [],
   "source": [
    "def find_pivot(arr):\n",
    "    s = 0\n",
    "    e = len(arr) - 1\n",
    "    m = (s+e)//2\n",
    "    while s <= e:\n",
    "        m = (s+e)//2\n",
    "        if arr[m - 1] < arr[m] and arr[m] > arr[m + 1]:\n",
    "            return m\n",
    "        elif arr[m - 1] < arr[m]:\n",
    "            s = m + 1\n",
    "        else:\n",
    "            e = m - 1\n",
    "    return -1"
   ]
  },
  {
   "cell_type": "code",
   "execution_count": 31,
   "metadata": {},
   "outputs": [
    {
     "data": {
      "text/plain": [
       "3"
      ]
     },
     "execution_count": 31,
     "metadata": {},
     "output_type": "execute_result"
    }
   ],
   "source": [
    "find_pivot([3,9,10,20,17,5,1])"
   ]
  },
  {
   "cell_type": "code",
   "execution_count": 32,
   "metadata": {},
   "outputs": [
    {
     "data": {
      "text/plain": [
       "10"
      ]
     },
     "execution_count": 32,
     "metadata": {},
     "output_type": "execute_result"
    }
   ],
   "source": [
    "find_pivot([1,2,3,4,5,6,7,8,9,10,20,19,18,17,16,15,14,13,12,11])"
   ]
  },
  {
   "cell_type": "code",
   "execution_count": 33,
   "metadata": {},
   "outputs": [],
   "source": [
    "A = [1,2,3,4,5,6,7,8,9,10,20,19,18,17,16,15,14,13,12,11]"
   ]
  },
  {
   "cell_type": "code",
   "execution_count": 34,
   "metadata": {},
   "outputs": [
    {
     "data": {
      "text/plain": [
       "[1, 2, 3, 4, 5, 6, 7, 8, 9, 10, 20]"
      ]
     },
     "execution_count": 34,
     "metadata": {},
     "output_type": "execute_result"
    }
   ],
   "source": [
    "A[:11]"
   ]
  },
  {
   "cell_type": "code",
   "execution_count": 35,
   "metadata": {},
   "outputs": [
    {
     "data": {
      "text/plain": [
       "[19, 18, 17, 16, 15, 14, 13, 12, 11]"
      ]
     },
     "execution_count": 35,
     "metadata": {},
     "output_type": "execute_result"
    }
   ],
   "source": [
    "A[11:]"
   ]
  },
  {
   "cell_type": "code",
   "execution_count": 5,
   "metadata": {},
   "outputs": [],
   "source": [
    "def solve(A, B):\n",
    "    def find_pivot(arr):\n",
    "        s = 0\n",
    "        e = len(arr) - 1\n",
    "        m = (s+e)//2\n",
    "        while s <= e:\n",
    "            m = (s+e)//2\n",
    "            if arr[m - 1] < arr[m] and arr[m] > arr[m + 1]:\n",
    "                return m\n",
    "            if arr[m - 1] < arr[m]:\n",
    "                s = m + 1\n",
    "            else:\n",
    "                e = m - 1\n",
    "            \n",
    "    k = find_pivot(A)\n",
    "    s = 0\n",
    "    e = k\n",
    "    while s <= e:\n",
    "        m = (s+e)//2\n",
    "        if A[m] == B:\n",
    "            return m \n",
    "        elif A[m] < B:\n",
    "            s = m + 1\n",
    "        else:\n",
    "            e = m - 1\n",
    "    s = k + 1\n",
    "    e = len(A) - 1\n",
    "    while s <= e:\n",
    "        m = (s+e)//2\n",
    "        if A[m] == B:\n",
    "            return m \n",
    "        elif A[m] < B:\n",
    "            e = m - 1\n",
    "        else:\n",
    "            s = m + 1\n",
    "    return -1\n",
    "        \n",
    "\n",
    "\n",
    "    \n"
   ]
  },
  {
   "cell_type": "code",
   "execution_count": 6,
   "metadata": {},
   "outputs": [
    {
     "data": {
      "text/plain": [
       "18"
      ]
     },
     "execution_count": 6,
     "metadata": {},
     "output_type": "execute_result"
    }
   ],
   "source": [
    "solve([1,2,3,4,5,6,7,8,9,10,20,19,18,17,16,15,14,13,12,11],12)"
   ]
  },
  {
   "cell_type": "code",
   "execution_count": 3,
   "metadata": {},
   "outputs": [],
   "source": [
    "def find_target(arr,target):\n",
    "    s = 0\n",
    "    e = len(arr) - 1\n",
    "    while s <= e:\n",
    "        m = (s+e)//2\n",
    "        if arr[m] == target:\n",
    "            return m \n",
    "        elif arr[m] < target:\n",
    "            s = m + 1\n",
    "        else:\n",
    "            e = m - 1\n",
    "    return -1"
   ]
  },
  {
   "cell_type": "code",
   "execution_count": 4,
   "metadata": {},
   "outputs": [
    {
     "data": {
      "text/plain": [
       "-1"
      ]
     },
     "execution_count": 4,
     "metadata": {},
     "output_type": "execute_result"
    }
   ],
   "source": [
    "find_target([0,19,18,17,16,15,14,13,12,11],12)"
   ]
  },
  {
   "cell_type": "code",
   "execution_count": 37,
   "metadata": {},
   "outputs": [],
   "source": [
    "def solve(A, B, C):\n",
    "    def gcd(a,b):\n",
    "        if b == 0:\n",
    "            return a \n",
    "        else:\n",
    "            return gcd(b,a%b)\n",
    "    def lcm(a,b):\n",
    "        return (a*b)//gcd(a,b)\n",
    "    def cnt_multiples(a,b,k):\n",
    "        return k//a + k//b - k//lcm(a,b)\n",
    "    s = min(B,C)\n",
    "    e = min(B,C)*A \n",
    "    while s <= e:\n",
    "        m = (s+e)//2 \n",
    "        if cnt_multiples(B,C,m) > A:\n",
    "            e = m - 1\n",
    "        elif cnt_multiples(B,C,m) < A:\n",
    "            s = m + 1\n",
    "        else:\n",
    "            if m%B == 0 or m%C == 0:\n",
    "                return m \n",
    "            else:\n",
    "                e = m - 1\n",
    "                "
   ]
  },
  {
   "cell_type": "code",
   "execution_count": 38,
   "metadata": {},
   "outputs": [
    {
     "data": {
      "text/plain": [
       "6"
      ]
     },
     "execution_count": 38,
     "metadata": {},
     "output_type": "execute_result"
    }
   ],
   "source": [
    "solve(4,2,3)"
   ]
  },
  {
   "cell_type": "code",
   "execution_count": 40,
   "metadata": {},
   "outputs": [
    {
     "data": {
      "text/plain": [
       "13"
      ]
     },
     "execution_count": 40,
     "metadata": {},
     "output_type": "execute_result"
    }
   ],
   "source": [
    "solve(2,11,13)"
   ]
  },
  {
   "cell_type": "code",
   "execution_count": null,
   "metadata": {},
   "outputs": [],
   "source": []
  }
 ],
 "metadata": {
  "kernelspec": {
   "display_name": "Python 3",
   "language": "python",
   "name": "python3"
  },
  "language_info": {
   "codemirror_mode": {
    "name": "ipython",
    "version": 3
   },
   "file_extension": ".py",
   "mimetype": "text/x-python",
   "name": "python",
   "nbconvert_exporter": "python",
   "pygments_lexer": "ipython3",
   "version": "3.9.6"
  },
  "orig_nbformat": 4,
  "vscode": {
   "interpreter": {
    "hash": "31f2aee4e71d21fbe5cf8b01ff0e069b9275f58929596ceb00d14d90e3e16cd6"
   }
  }
 },
 "nbformat": 4,
 "nbformat_minor": 2
}
