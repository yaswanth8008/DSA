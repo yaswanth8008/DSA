{
 "cells": [
  {
   "cell_type": "code",
   "execution_count": 121,
   "metadata": {},
   "outputs": [],
   "source": [
    "def lszero(A):\n",
    "    d = {}\n",
    "    pf_arr = [0]*len(A)\n",
    "    pf_arr[0] = A[0]\n",
    "    max_length = -10000000\n",
    "    for i in range(1,len(A)):\n",
    "        pf_arr[i] = pf_arr[i-1] + A[i]\n",
    "    for a in range(len(pf_arr)):\n",
    "        if pf_arr[a] == 0:\n",
    "            max_length = max(max_length,a+1)\n",
    "            d[pf_arr[a]] = [a+1,0,a] \n",
    "\n",
    "        elif pf_arr[a] not in d:\n",
    "            d[pf_arr[a]] = [1,a+1] \n",
    "        else:\n",
    "            \n",
    "            max_length = max(max_length,a - d[pf_arr[a]][1] + 1)\n",
    "            d[pf_arr[a]][0] = a - d[pf_arr[a]][1] + 1\n",
    "            # print(d[pf_arr[a]][1])\n",
    "            # print(max_length)\n",
    "            d[pf_arr[a]].append(a)\n",
    "    for i in d:\n",
    "        if d[i][0] == max_length & len(d[i]) != 2:\n",
    "            return A[d[i][1]:d[i][-1]+1]\n",
    "    return d,max_length"
   ]
  },
  {
   "cell_type": "code",
   "execution_count": 122,
   "metadata": {},
   "outputs": [
    {
     "data": {
      "text/plain": [
       "({2: [7, 1, 3, 7],\n",
       "  4: [1, 2],\n",
       "  5: [8, 3, 10],\n",
       "  6: [5, 5, 9],\n",
       "  9: [1, 6],\n",
       "  10: [1, 7],\n",
       "  8: [1, 9]},\n",
       " 8)"
      ]
     },
     "execution_count": 122,
     "metadata": {},
     "output_type": "execute_result"
    }
   ],
   "source": [
    "lszero([2,2,1,-3,4,3,1,-8,6,-2,-1])"
   ]
  },
  {
   "cell_type": "code",
   "execution_count": 123,
   "metadata": {},
   "outputs": [
    {
     "data": {
      "text/plain": [
       "[1, 2, -3]"
      ]
     },
     "execution_count": 123,
     "metadata": {},
     "output_type": "execute_result"
    }
   ],
   "source": [
    "lszero([1,2,-3,3])"
   ]
  },
  {
   "cell_type": "code",
   "execution_count": 124,
   "metadata": {},
   "outputs": [
    {
     "data": {
      "text/plain": [
       "({-19: [1, 1],\n",
       "  -11: [1, 2],\n",
       "  -9: [1, 3],\n",
       "  -17: [1, 4],\n",
       "  2: [1, 5],\n",
       "  7: [1, 6],\n",
       "  5: [1, 7],\n",
       "  -18: [1, 8]},\n",
       " -10000000)"
      ]
     },
     "execution_count": 124,
     "metadata": {},
     "output_type": "execute_result"
    }
   ],
   "source": [
    "lszero([-19,8,2,-8,19,5,-2,-23])"
   ]
  },
  {
   "cell_type": "code",
   "execution_count": 125,
   "metadata": {},
   "outputs": [
    {
     "data": {
      "text/plain": [
       "({1: [1, 1], 3: [2, 2, 3], 2: [1, 3], 6: [2, 5, 6], 5: [1, 6], 10: [1, 8]}, 2)"
      ]
     },
     "execution_count": 125,
     "metadata": {},
     "output_type": "execute_result"
    }
   ],
   "source": [
    "lszero([1,2,-1,1,3,-1,1,4])"
   ]
  },
  {
   "cell_type": "code",
   "execution_count": 126,
   "metadata": {},
   "outputs": [
    {
     "data": {
      "text/plain": [
       "[0]"
      ]
     },
     "execution_count": 126,
     "metadata": {},
     "output_type": "execute_result"
    }
   ],
   "source": [
    "lszero([10,13,-1,8,29,1,24,8,21,20,21,-23,-21,0])"
   ]
  },
  {
   "cell_type": "code",
   "execution_count": 158,
   "metadata": {},
   "outputs": [],
   "source": [
    "def solve(A, B):\n",
    "    d = {}\n",
    "    for i in B:\n",
    "        d[i] = d.get(i,0) + 1 \n",
    "    p = {}\n",
    "    for i in A:\n",
    "        p[i] = p.get(i,0) + 1 \n",
    "    a = []\n",
    "    for i in d:\n",
    "        if i in p:\n",
    "            if p[i] == 1:\n",
    "                a.append(i)\n",
    "            else:\n",
    "                while p[i] > 0:\n",
    "                    a.append(i)\n",
    "                    p[i] -= 1 \n",
    "    b = []\n",
    "    for i in range(len(A)):\n",
    "        if A[i] not in d:\n",
    "            b.append(A[i])\n",
    "    b.sort()\n",
    "    a = a + b \n",
    "    return a"
   ]
  },
  {
   "cell_type": "code",
   "execution_count": 159,
   "metadata": {},
   "outputs": [],
   "source": [
    "A = [10,2,18,16,16,16]\n",
    "B = [3,13,2,16,4,19]"
   ]
  },
  {
   "cell_type": "code",
   "execution_count": 160,
   "metadata": {},
   "outputs": [
    {
     "data": {
      "text/plain": [
       "[2, 16, 16, 16, 10, 18]"
      ]
     },
     "execution_count": 160,
     "metadata": {},
     "output_type": "execute_result"
    }
   ],
   "source": [
    "solve(A,B)"
   ]
  },
  {
   "cell_type": "code",
   "execution_count": 162,
   "metadata": {},
   "outputs": [],
   "source": [
    "s = set(str(4682973698))"
   ]
  },
  {
   "cell_type": "code",
   "execution_count": 163,
   "metadata": {},
   "outputs": [
    {
     "data": {
      "text/plain": [
       "{'2', '3', '4', '6', '7', '8', '9'}"
      ]
     },
     "execution_count": 163,
     "metadata": {},
     "output_type": "execute_result"
    }
   ],
   "source": [
    "s"
   ]
  },
  {
   "cell_type": "code",
   "execution_count": 164,
   "metadata": {},
   "outputs": [],
   "source": [
    "s.add(81)"
   ]
  },
  {
   "cell_type": "code",
   "execution_count": 165,
   "metadata": {},
   "outputs": [
    {
     "data": {
      "text/plain": [
       "{'2', '3', '4', '6', '7', '8', 81, '9'}"
      ]
     },
     "execution_count": 165,
     "metadata": {},
     "output_type": "execute_result"
    }
   ],
   "source": [
    "s"
   ]
  },
  {
   "cell_type": "code",
   "execution_count": 169,
   "metadata": {},
   "outputs": [],
   "source": [
    "def cnt_window(A,B):\n",
    "    d = {}\n",
    "    ans = []\n",
    "    cnt = 0\n",
    "    for i in range(B):\n",
    "        d[A[i]] = d.get(A[i],0) + 1\n",
    "    ans.append(len(d))\n",
    "\n",
    "    for i in range(0,len(A)-B):\n",
    "        d[A[i]] -= 1\n",
    "        if d[A[i]] == 0:\n",
    "            d.pop(A[i])\n",
    "        d[A[i+B]] = d.get(A[i+B],0) + 1\n",
    "        ans.append(len(d))\n",
    "    return ans\n",
    "      "
   ]
  },
  {
   "cell_type": "code",
   "execution_count": 170,
   "metadata": {},
   "outputs": [
    {
     "data": {
      "text/plain": [
       "[2, 3, 3, 2]"
      ]
     },
     "execution_count": 170,
     "metadata": {},
     "output_type": "execute_result"
    }
   ],
   "source": [
    "cnt_window([1,2,1,3,4,3],3)"
   ]
  },
  {
   "cell_type": "code",
   "execution_count": null,
   "metadata": {},
   "outputs": [],
   "source": []
  }
 ],
 "metadata": {
  "kernelspec": {
   "display_name": "Python 3",
   "language": "python",
   "name": "python3"
  },
  "language_info": {
   "codemirror_mode": {
    "name": "ipython",
    "version": 3
   },
   "file_extension": ".py",
   "mimetype": "text/x-python",
   "name": "python",
   "nbconvert_exporter": "python",
   "pygments_lexer": "ipython3",
   "version": "3.9.6"
  },
  "orig_nbformat": 4,
  "vscode": {
   "interpreter": {
    "hash": "31f2aee4e71d21fbe5cf8b01ff0e069b9275f58929596ceb00d14d90e3e16cd6"
   }
  }
 },
 "nbformat": 4,
 "nbformat_minor": 2
}
