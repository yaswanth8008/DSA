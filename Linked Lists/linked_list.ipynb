{
 "cells": [
  {
   "cell_type": "code",
   "execution_count": 19,
   "metadata": {},
   "outputs": [],
   "source": [
    "class node:\n",
    "    def __init__(self,data):\n",
    "        self.data = data \n",
    "        self.next = None\n",
    "head = None\n",
    "size = 0\n",
    "    \n",
    "def insert_node(position, value):\n",
    "    # @param position, an integer\n",
    "    # @param value, an integer\n",
    "    global head \n",
    "    global size\n",
    "\n",
    "    \n",
    "    if position == 1:\n",
    "        new_node = node(value)\n",
    "        new_node.next = head\n",
    "        head = new_node\n",
    "    else:\n",
    "        temp = head\n",
    "        i = 0\n",
    "        while i <= position - 1 and temp.next != None:\n",
    "            i += 1\n",
    "            temp = temp.next \n",
    "        new_node = node(value)\n",
    "        new_node.next = temp.next\n",
    "        temp.next = new_node\n",
    "       \n",
    "        \n",
    "    size += 1"
   ]
  },
  {
   "cell_type": "code",
   "execution_count": 20,
   "metadata": {},
   "outputs": [],
   "source": [
    "insert_node(1,89)"
   ]
  },
  {
   "cell_type": "code",
   "execution_count": 21,
   "metadata": {},
   "outputs": [],
   "source": [
    "insert_node(2,65)"
   ]
  },
  {
   "cell_type": "code",
   "execution_count": 24,
   "metadata": {},
   "outputs": [],
   "source": [
    "insert_node(3,651)"
   ]
  },
  {
   "cell_type": "code",
   "execution_count": null,
   "metadata": {},
   "outputs": [],
   "source": []
  }
 ],
 "metadata": {
  "kernelspec": {
   "display_name": "Python 3",
   "language": "python",
   "name": "python3"
  },
  "language_info": {
   "codemirror_mode": {
    "name": "ipython",
    "version": 3
   },
   "file_extension": ".py",
   "mimetype": "text/x-python",
   "name": "python",
   "nbconvert_exporter": "python",
   "pygments_lexer": "ipython3",
   "version": "3.9.6"
  },
  "orig_nbformat": 4,
  "vscode": {
   "interpreter": {
    "hash": "31f2aee4e71d21fbe5cf8b01ff0e069b9275f58929596ceb00d14d90e3e16cd6"
   }
  }
 },
 "nbformat": 4,
 "nbformat_minor": 2
}
