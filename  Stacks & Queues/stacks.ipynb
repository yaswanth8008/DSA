{
 "cells": [
  {
   "cell_type": "code",
   "execution_count": 4,
   "metadata": {},
   "outputs": [],
   "source": [
    "def solve(A):\n",
    "    ans = [0]*len(A)\n",
    "    ans[0] = -1\n",
    "    for i in range(1,len(A)):\n",
    "        ans[i] = -1\n",
    "        j = i - 1\n",
    "        while j >= 0:\n",
    "            if A[j] < A[i]:\n",
    "                ans[i] = A[j]\n",
    "                break \n",
    "            else:\n",
    "                j -= 1\n",
    "    return ans"
   ]
  },
  {
   "cell_type": "code",
   "execution_count": 5,
   "metadata": {},
   "outputs": [
    {
     "data": {
      "text/plain": [
       "[-1, -1, 2, 5, 5, -1]"
      ]
     },
     "execution_count": 5,
     "metadata": {},
     "output_type": "execute_result"
    }
   ],
   "source": [
    "solve([4,2,5,10,8,2])"
   ]
  },
  {
   "cell_type": "code",
   "execution_count": 6,
   "metadata": {},
   "outputs": [
    {
     "data": {
      "text/plain": [
       "[-1, 6, 8, 10, -1, 2, 5, 2]"
      ]
     },
     "execution_count": 6,
     "metadata": {},
     "output_type": "execute_result"
    }
   ],
   "source": [
    "solve([6,8,10,11,2,5,7,3])"
   ]
  },
  {
   "cell_type": "code",
   "execution_count": 7,
   "metadata": {},
   "outputs": [],
   "source": [
    "\n",
    "def prevSmaller(A):\n",
    "    stack = []\n",
    "    ans = []\n",
    "    cnt = 0\n",
    "    for i in range(len(A)):\n",
    "     \n",
    "        if len(stack) == 0:\n",
    "            cnt += 1\n",
    "            ans.append(-1)\n",
    "            # stack.append(A[i])\n",
    "        else:\n",
    "            if stack[-1] < A[i]:\n",
    "                cnt += 1\n",
    "                ans.append(stack[-1])\n",
    "                # stack.append(A[i])\n",
    "            else:\n",
    "                while len(stack) != 0 and stack[-1] >= A[i]:\n",
    "                    cnt += 1\n",
    "                    stack.pop()\n",
    "                if len(stack) == 0:\n",
    "                    cnt += 1\n",
    "                    ans.append(-1)\n",
    "                else:\n",
    "                    ans.append(stack[-1])\n",
    "                    cnt += 1\n",
    "       \n",
    "        stack.append(A[i])\n",
    "    return ans,cnt"
   ]
  },
  {
   "cell_type": "code",
   "execution_count": 8,
   "metadata": {},
   "outputs": [
    {
     "data": {
      "text/plain": [
       "([-1, -1, 2, 5, 5, -1], 11)"
      ]
     },
     "execution_count": 8,
     "metadata": {},
     "output_type": "execute_result"
    }
   ],
   "source": [
    "prevSmaller([4,2,5,10,8,2])"
   ]
  },
  {
   "cell_type": "code",
   "execution_count": 9,
   "metadata": {},
   "outputs": [
    {
     "data": {
      "text/plain": [
       "([-1, 6, 8, 10, -1, 2, 5, 2], 14)"
      ]
     },
     "execution_count": 9,
     "metadata": {},
     "output_type": "execute_result"
    }
   ],
   "source": [
    "prevSmaller([6,8,10,11,2,5,7,3])"
   ]
  },
  {
   "cell_type": "code",
   "execution_count": 27,
   "metadata": {},
   "outputs": [],
   "source": [
    "def nextGreater(A):\n",
    "    stack = []\n",
    "    ans = []\n",
    "    for i in range(len(A)-1,-1,-1):\n",
    "        if len(stack) == 0:\n",
    "            ans.append(-1)\n",
    "            # stack.append(A[i])\n",
    "        else:\n",
    "            if stack[-1] > A[i]:\n",
    "                ans.append(stack[-1])\n",
    "                # stack.append(A[i])\n",
    "            else:\n",
    "                while len(stack) != 0 and stack[-1] <= A[i]:\n",
    "                    stack.pop()\n",
    "                if len(stack) == 0:\n",
    "                    ans.append(-1)\n",
    "                else:\n",
    "                    ans.append(stack[-1])\n",
    "        stack.append(A[i])\n",
    "    return ans[::-1]\n"
   ]
  },
  {
   "cell_type": "code",
   "execution_count": 28,
   "metadata": {},
   "outputs": [
    {
     "data": {
      "text/plain": [
       "[5, 10, 10, -1, -1, -1, -1]"
      ]
     },
     "execution_count": 28,
     "metadata": {},
     "output_type": "execute_result"
    }
   ],
   "source": [
    "nextGreater([4,5,2,10,8,6,1])"
   ]
  },
  {
   "cell_type": "code",
   "execution_count": 32,
   "metadata": {},
   "outputs": [],
   "source": [
    "def nextGreaterIndex(A):\n",
    "    stack = []\n",
    "    ans = []\n",
    "    n = len(A) - 1\n",
    "    for i in range(len(A)-1,-1,-1):\n",
    "        if len(stack) == 0:\n",
    "            ans.append(n)\n",
    "            # stack.append(A[i])\n",
    "        else:\n",
    "            if A[stack[-1]] > A[i]:\n",
    "                ans.append(stack[-1])\n",
    "                # stack.append(A[i])\n",
    "            else:\n",
    "                while len(stack) != 0 and stack[-1] <= A[i]:\n",
    "                    stack.pop()\n",
    "                if len(stack) == 0:\n",
    "                    ans.append(n)\n",
    "                else:\n",
    "                    ans.append(stack[-1])\n",
    "        stack.append(i)\n",
    "    return ans[::-1]"
   ]
  },
  {
   "cell_type": "code",
   "execution_count": 33,
   "metadata": {},
   "outputs": [
    {
     "data": {
      "text/plain": [
       "[1, 6, 3, 6, 6, 6, 6]"
      ]
     },
     "execution_count": 33,
     "metadata": {},
     "output_type": "execute_result"
    }
   ],
   "source": [
    "nextGreaterIndex([4,5,2,10,8,6,1])"
   ]
  },
  {
   "cell_type": "code",
   "execution_count": null,
   "metadata": {},
   "outputs": [],
   "source": []
  }
 ],
 "metadata": {
  "kernelspec": {
   "display_name": "Python 3",
   "language": "python",
   "name": "python3"
  },
  "language_info": {
   "codemirror_mode": {
    "name": "ipython",
    "version": 3
   },
   "file_extension": ".py",
   "mimetype": "text/x-python",
   "name": "python",
   "nbconvert_exporter": "python",
   "pygments_lexer": "ipython3",
   "version": "3.9.6"
  },
  "orig_nbformat": 4,
  "vscode": {
   "interpreter": {
    "hash": "31f2aee4e71d21fbe5cf8b01ff0e069b9275f58929596ceb00d14d90e3e16cd6"
   }
  }
 },
 "nbformat": 4,
 "nbformat_minor": 2
}
