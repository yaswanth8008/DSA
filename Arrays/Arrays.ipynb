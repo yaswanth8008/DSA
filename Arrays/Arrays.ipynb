{
 "cells": [
  {
   "attachments": {},
   "cell_type": "markdown",
   "metadata": {},
   "source": [
    "#### Q1) Beggars Outside"
   ]
  },
  {
   "cell_type": "code",
   "execution_count": 177,
   "metadata": {},
   "outputs": [],
   "source": [
    "\n",
    "def each_beggar_got(A,B):\n",
    "    beggars_amt = [0]*A \n",
    "    for i in B:\n",
    "        start = i[0] - 1\n",
    "        end = i[1] - 1\n",
    "        value = i[2]\n",
    "        beggars_amt[start] += value\n",
    "        if end != A - 1:\n",
    "            beggars_amt[end+1] -= value \n",
    "    \n",
    "    for i in range(1,A):\n",
    "        beggars_amt[i] += beggars_amt[i-1] \n",
    "    return beggars_amt"
   ]
  },
  {
   "cell_type": "code",
   "execution_count": 178,
   "metadata": {},
   "outputs": [
    {
     "data": {
      "text/plain": [
       "[10, 55, 45, 25, 25]"
      ]
     },
     "execution_count": 178,
     "metadata": {},
     "output_type": "execute_result"
    }
   ],
   "source": [
    "each_beggar_got(5,[[1, 2, 10], [2, 3, 20], [2, 5, 25]])"
   ]
  },
  {
   "attachments": {},
   "cell_type": "markdown",
   "metadata": {},
   "source": [
    "#### Q2) Trapping Rain Water"
   ]
  },
  {
   "cell_type": "code",
   "execution_count": 179,
   "metadata": {},
   "outputs": [],
   "source": [
    "\n",
    "def trap(height):\n",
    "    water = 0\n",
    "    pref_max = [0]*len(height)\n",
    "    pref_max[0] = height[0]\n",
    "    for i in range(1,len(height)):\n",
    "        pref_max[i] = max(pref_max[i-1],height[i])\n",
    "    suf_max = [0]*len(height)\n",
    "    suf_max[-1] = height[-1]\n",
    "    for i in range(len(height)-2,-1,-1):\n",
    "        suf_max[i] = max(suf_max[i+1],height[i])\n",
    "    for i in range(1,len(height)-1):\n",
    "        amt = min(pref_max[i-1],suf_max[i+1]) - height[i]\n",
    "        if amt > 0:\n",
    "            water += amt\n",
    "    return water\n",
    "\n"
   ]
  },
  {
   "cell_type": "code",
   "execution_count": 180,
   "metadata": {},
   "outputs": [
    {
     "data": {
      "text/plain": [
       "6"
      ]
     },
     "execution_count": 180,
     "metadata": {},
     "output_type": "execute_result"
    }
   ],
   "source": [
    "trap([0,1,0,2,1,0,1,3,2,1,2,1])"
   ]
  },
  {
   "attachments": {},
   "cell_type": "markdown",
   "metadata": {},
   "source": [
    "#### Q3) Maximum Subarray - Kadane's Algorithm"
   ]
  },
  {
   "cell_type": "code",
   "execution_count": 181,
   "metadata": {},
   "outputs": [],
   "source": [
    "def maxSubArray(nums):\n",
    "    summ = 0\n",
    "    max_sum = nums[0]\n",
    "    for i in range(len(nums)):\n",
    "        summ += nums[i]\n",
    "        max_sum = max(max_sum,summ)\n",
    "        if summ < 0:\n",
    "            summ = 0\n",
    "    return max_sum\n",
    "\n"
   ]
  },
  {
   "cell_type": "code",
   "execution_count": 182,
   "metadata": {},
   "outputs": [],
   "source": [
    "def kadane(arr):\n",
    "    curr_sum = 0\n",
    "    max_sum = -10000000\n",
    "    for i in range(len(arr)):\n",
    "        curr_sum += arr[i]\n",
    "        if curr_sum >= max_sum:\n",
    "            max_sum = curr_sum \n",
    "        if curr_sum < 0:\n",
    "            curr_sum = 0\n",
    "    return max_sum"
   ]
  },
  {
   "cell_type": "code",
   "execution_count": 183,
   "metadata": {},
   "outputs": [
    {
     "data": {
      "text/plain": [
       "23"
      ]
     },
     "execution_count": 183,
     "metadata": {},
     "output_type": "execute_result"
    }
   ],
   "source": [
    "kadane([5,4,-1,7,8])"
   ]
  },
  {
   "cell_type": "code",
   "execution_count": 184,
   "metadata": {},
   "outputs": [
    {
     "name": "stdout",
     "output_type": "stream",
     "text": [
      "23\n"
     ]
    }
   ],
   "source": [
    "print(maxSubArray([5,4,-1,7,8]))"
   ]
  },
  {
   "attachments": {},
   "cell_type": "markdown",
   "metadata": {},
   "source": [
    "#### Q4) Plus One"
   ]
  },
  {
   "cell_type": "code",
   "execution_count": 185,
   "metadata": {},
   "outputs": [
    {
     "name": "stdout",
     "output_type": "stream",
     "text": [
      "[1, 0, 0, 0, 0]\n"
     ]
    }
   ],
   "source": [
    "# https://leetcode.com/problems/plus-one/\n",
    "\n",
    "def plusOne(digits):\n",
    "    digits[-1] += 1\n",
    "    carry_forward = digits[-1]//10\n",
    "    digits[-1] = digits[-1]%10\n",
    "    for i in range(len(digits)-2,-1,-1):\n",
    "        num = digits[i] + carry_forward\n",
    "        digits[i] = num%10\n",
    "        carry_forward = num//10\n",
    "    if carry_forward == 0:\n",
    "        return digits\n",
    "    else:\n",
    "        digits.insert(0,carry_forward)\n",
    "        return digits\n",
    "    \n",
    "print(plusOne([9,9,9,9]))"
   ]
  },
  {
   "cell_type": "code",
   "execution_count": 186,
   "metadata": {},
   "outputs": [],
   "source": [
    "def flip(A):\n",
    "    curr_sum = 0\n",
    "    max_sum = 0\n",
    "    ans = [0,0]\n",
    "    left = 0\n",
    "    right = 0\n",
    "    for i in range(len(A)):\n",
    "        if A[i] == '1':\n",
    "            curr_sum += -1\n",
    "        else:\n",
    "            curr_sum += 1\n",
    "        if curr_sum > max_sum:\n",
    "            max_sum = curr_sum\n",
    "            ans[0] = left + 1\n",
    "            ans[1] = right + 1\n",
    "        if curr_sum < 0:\n",
    "            curr_sum = 0\n",
    "            left = i + 1\n",
    "            right = i + 1\n",
    "        else:\n",
    "            right += 1\n",
    "\n",
    "    if max_sum == 0:\n",
    "        return []\n",
    "    else:\n",
    "        return ans"
   ]
  },
  {
   "cell_type": "code",
   "execution_count": 187,
   "metadata": {},
   "outputs": [
    {
     "data": {
      "text/plain": [
       "[3, 3]"
      ]
     },
     "execution_count": 187,
     "metadata": {},
     "output_type": "execute_result"
    }
   ],
   "source": [
    "flip(\"1101\")"
   ]
  },
  {
   "cell_type": "code",
   "execution_count": 188,
   "metadata": {},
   "outputs": [],
   "source": [
    "def maxset(A):\n",
    "    curr_sum = 0\n",
    "    max_sum = 0\n",
    "    d = []\n",
    "    left = 0\n",
    "    right = 0\n",
    "    for i in range(len(A)):\n",
    "        \n",
    "        curr_sum += A[i]\n",
    "        if curr_sum >= max_sum:\n",
    "            max_sum = curr_sum\n",
    "            right = i\n",
    "        if (curr_sum < max_sum) or (i == len(A)-1):\n",
    "            indices_list = [0,0,0]\n",
    "            indices_list[0] = left\n",
    "            indices_list[1] = right \n",
    "            indices_list[2] = max_sum\n",
    "            left = i + 1\n",
    "            right = i + 1\n",
    "            curr_sum = 0\n",
    "            max_sum = 0\n",
    "            d.append(indices_list)\n",
    "    max_sum = 0\n",
    "    for i in d:\n",
    "        max_sum = max(max_sum,i[2])\n",
    "    max_length = 0\n",
    "    for i in d:\n",
    "        if i[2] == max_sum:\n",
    "            length = i[2] - i[1] + 1\n",
    "            i[2] = length\n",
    "            max_length = max(length,max_length)\n",
    "\n",
    "    if max_length == 1:\n",
    "        return [0]\n",
    "\n",
    "    for i in d:\n",
    "        if i[2] == max_length:\n",
    "            return A[i[0]:i[1]+1]\n",
    "   \n"
   ]
  },
  {
   "cell_type": "code",
   "execution_count": 189,
   "metadata": {},
   "outputs": [
    {
     "data": {
      "text/plain": [
       "[2, 3, 1, 8]"
      ]
     },
     "execution_count": 189,
     "metadata": {},
     "output_type": "execute_result"
    }
   ],
   "source": [
    "maxset([1,2,5,-7,-8,2,3,1,8,-3,4,2,8])"
   ]
  },
  {
   "cell_type": "code",
   "execution_count": 190,
   "metadata": {},
   "outputs": [
    {
     "data": {
      "text/plain": [
       "[0]"
      ]
     },
     "execution_count": 190,
     "metadata": {},
     "output_type": "execute_result"
    }
   ],
   "source": [
    "maxset([-1,-1,-1,-1])"
   ]
  },
  {
   "cell_type": "code",
   "execution_count": 191,
   "metadata": {},
   "outputs": [
    {
     "data": {
      "text/plain": [
       "[0, 0]"
      ]
     },
     "execution_count": 191,
     "metadata": {},
     "output_type": "execute_result"
    }
   ],
   "source": [
    "maxset([0,0,-1,0])"
   ]
  },
  {
   "cell_type": "code",
   "execution_count": 192,
   "metadata": {},
   "outputs": [],
   "source": [
    "def maxset1(A):\n",
    "        d = {}\n",
    "        start = 0\n",
    "        end = 0\n",
    "        max_sum = -1000000000\n",
    "        global_max = -100000000\n",
    "        curr_sum = 0\n",
    "        for i in range(len(A)):\n",
    "            curr_sum += A[i]\n",
    "            max_sum = max(max_sum,curr_sum)\n",
    "        #     global_max = max(global_max,max_sum)\n",
    "            if curr_sum < max_sum and max_sum >= 0:\n",
    "                curr_sum = 0\n",
    "                end = i-1\n",
    "                d[(start,end)] = max_sum\n",
    "                max_sum = 0\n",
    "                start = i+1\n",
    "            elif max_sum < 0:\n",
    "                start = i + 1\n",
    "                end = i + 1\n",
    "                curr_sum = 0\n",
    "            else:\n",
    "                if i == len(A)-1:\n",
    "                    end = i\n",
    "                    d[(start,end)] = max_sum\n",
    "            global_max = max(global_max,max_sum)\n",
    "        max_segment_length = -100000000\n",
    "        d1 = {}\n",
    "        for i in d:\n",
    "            if d[i] == global_max:\n",
    "                segment_length = i[1]-i[0]+1\n",
    "                d1[i] = segment_length\n",
    "                max_segment_length = max(segment_length,max_segment_length)\n",
    "            \n",
    "        for i in d1:\n",
    "            if d1[i] == max_segment_length:\n",
    "                return A[i[0]:i[1]+1]\n",
    "        return []\n",
    "     "
   ]
  },
  {
   "cell_type": "code",
   "execution_count": 193,
   "metadata": {},
   "outputs": [
    {
     "data": {
      "text/plain": [
       "[]"
      ]
     },
     "execution_count": 193,
     "metadata": {},
     "output_type": "execute_result"
    }
   ],
   "source": [
    "maxset1([-1,-2,-3,-4])"
   ]
  },
  {
   "cell_type": "code",
   "execution_count": 194,
   "metadata": {},
   "outputs": [],
   "source": [
    "\n",
    "def solve(A, B, C, D, E):\n",
    "    sum_submatrices = []\n",
    "    rows = len(A)\n",
    "    columns = len(A[0])\n",
    "    for i in range(rows):\n",
    "        for j in range(1,columns):\n",
    "            A[i][j] += A[i][j-1]\n",
    "    for i in range(columns):\n",
    "        for j in range(1,rows):\n",
    "            A[j][i] += A[j-1][i]\n",
    "    for i in range(len(B)):\n",
    "        a1 = B[i] - 1\n",
    "        b1 = C[i] - 1\n",
    "        a2 = D[i] - 1\n",
    "        b2 = E[i] - 1\n",
    "        summ = A[a2][b2]\n",
    "        if a1 > 0:\n",
    "            summ -= A[a1-1][b2]\n",
    "        if b1 > 0:\n",
    "            summ -= A[a2][b1-1] \n",
    "        if a1 > 0 and b1 > 0:\n",
    "            summ += A[a1-1][b1-1]\n",
    "        sum_submatrices.append(summ)\n",
    "    print(A)\n",
    "    return sum_submatrices \n",
    "\n",
    "        \n"
   ]
  },
  {
   "cell_type": "code",
   "execution_count": 195,
   "metadata": {},
   "outputs": [],
   "source": [
    "A = [[1, 2, 3],\n",
    "    [4, 5, 6],\n",
    "    [7, 8, 9]]\n",
    "B = [1, 2]\n",
    "C = [1, 2]\n",
    "D = [2, 3]\n",
    "E = [2, 3]"
   ]
  },
  {
   "cell_type": "code",
   "execution_count": 196,
   "metadata": {},
   "outputs": [
    {
     "name": "stdout",
     "output_type": "stream",
     "text": [
      "[[1, 3, 6], [5, 12, 21], [12, 27, 45]]\n"
     ]
    },
    {
     "data": {
      "text/plain": [
       "[12, 28]"
      ]
     },
     "execution_count": 196,
     "metadata": {},
     "output_type": "execute_result"
    }
   ],
   "source": [
    "solve(A,B,C,D,E)"
   ]
  },
  {
   "attachments": {},
   "cell_type": "markdown",
   "metadata": {},
   "source": [
    "#### Sum of all Submatrices"
   ]
  },
  {
   "cell_type": "code",
   "execution_count": 197,
   "metadata": {},
   "outputs": [],
   "source": [
    "def solve(A):\n",
    "    n = len(A)\n",
    "    summ = 0\n",
    "    for i in range(n):\n",
    "        count = 0\n",
    "        for j in range(n):\n",
    "            count = (i+1)*(j+1)*(n-i)*(n-j)\n",
    "            summ += count*A[i][j]\n",
    "    return summ"
   ]
  },
  {
   "cell_type": "code",
   "execution_count": 198,
   "metadata": {},
   "outputs": [
    {
     "data": {
      "text/plain": [
       "16"
      ]
     },
     "execution_count": 198,
     "metadata": {},
     "output_type": "execute_result"
    }
   ],
   "source": [
    "solve([[1,1],[1,1]])"
   ]
  },
  {
   "attachments": {},
   "cell_type": "markdown",
   "metadata": {},
   "source": [
    "#### Q. Search in a row wise and column wise sorted matrix"
   ]
  },
  {
   "cell_type": "code",
   "execution_count": 199,
   "metadata": {},
   "outputs": [],
   "source": [
    "\n",
    "\n",
    "def solve(A, B):\n",
    "    i = 0\n",
    "    j = len(A[0]) - 1\n",
    "    n = len(A)\n",
    "    m = len(A[0])\n",
    "    while i < n and j >= 0:\n",
    "        if A[i][j] < B:\n",
    "            i += 1\n",
    "        elif A[i][j] > B:\n",
    "            j -= 1\n",
    "        else:\n",
    "            k = 0\n",
    "            while k < m:\n",
    "                if A[i][k] == B:\n",
    "                    return (i+1)*1009 + (k+1)\n",
    "                else:\n",
    "                    k += 1\n",
    "    return -1"
   ]
  },
  {
   "cell_type": "code",
   "execution_count": 200,
   "metadata": {},
   "outputs": [],
   "source": [
    "\n",
    "def solve_max_sum(A):\n",
    "    m = len(A[0])\n",
    "    n = len(A)\n",
    "    for i in range(n):\n",
    "        for j in range(m-2,-1,-1):\n",
    "            A[i][j] += A[i][j+1]\n",
    "    for i in range(m):\n",
    "        for j in range(n-2,-1,-1):\n",
    "            A[j][i] += A[j+1][i]\n",
    "    max_sum = -1000000\n",
    "    for i in range(n):\n",
    "        for j in range(m):\n",
    "            max_sum = max(max_sum,A[i][j])\n",
    "    return max_sum"
   ]
  },
  {
   "cell_type": "code",
   "execution_count": 201,
   "metadata": {},
   "outputs": [
    {
     "data": {
      "text/plain": [
       "71"
      ]
     },
     "execution_count": 201,
     "metadata": {},
     "output_type": "execute_result"
    }
   ],
   "source": [
    "solve_max_sum([[-10,-6,-2,1],[-5,-4,4,5],[-3,0,6,20],[2,5,10,25]])"
   ]
  },
  {
   "cell_type": "code",
   "execution_count": 202,
   "metadata": {},
   "outputs": [],
   "source": [
    "def solve(self, A):\n",
    "    n = len(A)\n",
    "    m = len(A[0])\n",
    "    summs = []\n",
    "    maximum_sum_submatrix = -100000\n",
    "                \n",
    "    def kadane(arr):\n",
    "        curr_sum = 0\n",
    "        max_sum = -10000000\n",
    "        for i in range(len(arr)):\n",
    "            curr_sum += arr[i]\n",
    "            if curr_sum >= max_sum:\n",
    "                max_sum = curr_sum \n",
    "            if curr_sum < 0:\n",
    "                curr_sum = 0\n",
    "        return max_sum\n",
    "    for i in range(n):\n",
    "        arr_sum = [0]*m\n",
    "        for j in range(i,n):\n",
    "            for k in range(m):\n",
    "                arr_sum[k] += A[j][k]\n",
    "            maximum_sum_submatrix = max(maximum_sum_submatrix,kadane(arr_sum))\n",
    "    return maximum_sum_submatrix\n",
    "\n",
    "            \n",
    "            \n",
    "            \n",
    "\n",
    "\n",
    "   "
   ]
  },
  {
   "cell_type": "code",
   "execution_count": 203,
   "metadata": {},
   "outputs": [],
   "source": [
    "# A = [[1,2,3],[1,1,1],[2,4,3]]\n",
    "A = [[1,2,3],[1,1,1]]\n",
    "# A = [[-6,-6],[-29,-8],[3,-8],[-15,2],[25,25],[20,-5]]"
   ]
  },
  {
   "cell_type": "code",
   "execution_count": 204,
   "metadata": {},
   "outputs": [
    {
     "name": "stdout",
     "output_type": "stream",
     "text": [
      "[1, 2, 3]\n",
      "[2, 3, 4]\n",
      "[1, 1, 1]\n"
     ]
    },
    {
     "data": {
      "text/plain": [
       "[[1, 2, 3], [2, 3, 4], [1, 1, 1]]"
      ]
     },
     "execution_count": 204,
     "metadata": {},
     "output_type": "execute_result"
    }
   ],
   "source": [
    "max_submatrix_sum(A)"
   ]
  },
  {
   "cell_type": "code",
   "execution_count": 205,
   "metadata": {},
   "outputs": [],
   "source": [
    "def max_sum_window(arr,k):\n",
    "        curr_sum = 0\n",
    "        n = len(arr)\n",
    "        for i in range(n):\n",
    "            curr_sum += arr[i]\n",
    "            arr[i] = curr_sum\n",
    "        max_sum = arr[k-1]\n",
    "        for j in range(k,n):\n",
    "            max_sum = max(max_sum,arr[j]-arr[j-k])\n",
    "        return max_sum"
   ]
  },
  {
   "cell_type": "code",
   "execution_count": 206,
   "metadata": {},
   "outputs": [
    {
     "data": {
      "text/plain": [
       "48"
      ]
     },
     "execution_count": 206,
     "metadata": {},
     "output_type": "execute_result"
    }
   ],
   "source": [
    "max_sum_window([12, 17, 15, 16, 12],3)"
   ]
  },
  {
   "cell_type": "markdown",
   "metadata": {},
   "source": [
    "#### Maximum Sum Square SubMatrix"
   ]
  },
  {
   "cell_type": "code",
   "execution_count": 210,
   "metadata": {},
   "outputs": [],
   "source": [
    "def Maximum_Sum_Square_SubMatrix (A, B):\n",
    "\n",
    "    def max_sum_window(arr,k):\n",
    "            curr_sum = 0\n",
    "            n = len(arr)\n",
    "            for i in range(n):\n",
    "                curr_sum += arr[i]\n",
    "                arr[i] = curr_sum\n",
    "            max_sum = arr[k-1]\n",
    "            for j in range(k,n):\n",
    "                max_sum = max(max_sum,arr[j]-arr[j-k])\n",
    "            return max_sum\n",
    "\n",
    "    n = len(A)\n",
    "    maximum_sum = -10000000\n",
    "    for i in range(n):\n",
    "        arr = [0]*n\n",
    "        for j in range(i,n):\n",
    "            for k in range(n):\n",
    "                arr[k] += A[j][k]\n",
    "            if j - i + 1 == B:\n",
    "                maximum_sum = max(maximum_sum,max_sum_window(arr,B))\n",
    "    return maximum_sum\n"
   ]
  },
  {
   "cell_type": "code",
   "execution_count": 211,
   "metadata": {},
   "outputs": [],
   "source": [
    "A = [\n",
    "    [1, 1, 1, 1, 1],\n",
    "    [2, 2, 2, 2, 2],\n",
    "    [3, 8, 6, 7, 3],\n",
    "    [4, 4, 4, 4, 4],\n",
    "    [5, 5, 5, 5, 5],\n",
    "    ]\n",
    "B = 3"
   ]
  },
  {
   "cell_type": "code",
   "execution_count": 212,
   "metadata": {},
   "outputs": [
    {
     "data": {
      "text/plain": [
       "48"
      ]
     },
     "execution_count": 212,
     "metadata": {},
     "output_type": "execute_result"
    }
   ],
   "source": [
    "Maximum_Sum_Square_SubMatrix(A,B)"
   ]
  },
  {
   "cell_type": "code",
   "execution_count": null,
   "metadata": {},
   "outputs": [],
   "source": []
  }
 ],
 "metadata": {
  "kernelspec": {
   "display_name": "Python 3",
   "language": "python",
   "name": "python3"
  },
  "language_info": {
   "codemirror_mode": {
    "name": "ipython",
    "version": 3
   },
   "file_extension": ".py",
   "mimetype": "text/x-python",
   "name": "python",
   "nbconvert_exporter": "python",
   "pygments_lexer": "ipython3",
   "version": "3.9.6"
  },
  "orig_nbformat": 4,
  "vscode": {
   "interpreter": {
    "hash": "31f2aee4e71d21fbe5cf8b01ff0e069b9275f58929596ceb00d14d90e3e16cd6"
   }
  }
 },
 "nbformat": 4,
 "nbformat_minor": 2
}
