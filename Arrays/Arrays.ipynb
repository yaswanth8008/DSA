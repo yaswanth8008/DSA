{
 "cells": [
  {
   "attachments": {},
   "cell_type": "markdown",
   "metadata": {},
   "source": [
    "#### Q1) Beggars Outside"
   ]
  },
  {
   "cell_type": "code",
   "execution_count": 3,
   "metadata": {},
   "outputs": [],
   "source": [
    "\n",
    "def each_beggar_got(A,B):\n",
    "    beggars_amt = [0]*A \n",
    "    for i in B:\n",
    "        start = i[0] - 1\n",
    "        end = i[1] - 1\n",
    "        value = i[2]\n",
    "        beggars_amt[start] += value\n",
    "        if end != A - 1:\n",
    "            beggars_amt[end+1] -= value \n",
    "    \n",
    "    for i in range(1,A):\n",
    "        beggars_amt[i] += beggars_amt[i-1] \n",
    "    return beggars_amt"
   ]
  },
  {
   "cell_type": "code",
   "execution_count": 4,
   "metadata": {},
   "outputs": [
    {
     "data": {
      "text/plain": [
       "[10, 55, 45, 25, 25]"
      ]
     },
     "execution_count": 4,
     "metadata": {},
     "output_type": "execute_result"
    }
   ],
   "source": [
    "each_beggar_got(5,[[1, 2, 10], [2, 3, 20], [2, 5, 25]])"
   ]
  },
  {
   "attachments": {},
   "cell_type": "markdown",
   "metadata": {},
   "source": [
    "#### Q2) Trapping Rain Water"
   ]
  },
  {
   "cell_type": "code",
   "execution_count": 5,
   "metadata": {},
   "outputs": [],
   "source": [
    "\n",
    "def trap(height):\n",
    "    water = 0\n",
    "    pref_max = [0]*len(height)\n",
    "    pref_max[0] = height[0]\n",
    "    for i in range(1,len(height)):\n",
    "        pref_max[i] = max(pref_max[i-1],height[i])\n",
    "    suf_max = [0]*len(height)\n",
    "    suf_max[-1] = height[-1]\n",
    "    for i in range(len(height)-2,-1,-1):\n",
    "        suf_max[i] = max(suf_max[i+1],height[i])\n",
    "    for i in range(1,len(height)-1):\n",
    "        amt = min(pref_max[i-1],suf_max[i+1]) - height[i]\n",
    "        if amt > 0:\n",
    "            water += amt\n",
    "    return water\n",
    "\n"
   ]
  },
  {
   "cell_type": "code",
   "execution_count": 7,
   "metadata": {},
   "outputs": [
    {
     "data": {
      "text/plain": [
       "6"
      ]
     },
     "execution_count": 7,
     "metadata": {},
     "output_type": "execute_result"
    }
   ],
   "source": [
    "trap([0,1,0,2,1,0,1,3,2,1,2,1])"
   ]
  },
  {
   "attachments": {},
   "cell_type": "markdown",
   "metadata": {},
   "source": [
    "#### Q3) Maximum Subarray - Kadane's Algorithm"
   ]
  },
  {
   "cell_type": "code",
   "execution_count": 8,
   "metadata": {},
   "outputs": [],
   "source": [
    "def maxSubArray(nums):\n",
    "    summ = 0\n",
    "    max_sum = nums[0]\n",
    "    for i in range(len(nums)):\n",
    "        summ += nums[i]\n",
    "        max_sum = max(max_sum,summ)\n",
    "        if summ < 0:\n",
    "            summ = 0\n",
    "    return max_sum\n",
    "\n"
   ]
  },
  {
   "cell_type": "code",
   "execution_count": 9,
   "metadata": {},
   "outputs": [
    {
     "name": "stdout",
     "output_type": "stream",
     "text": [
      "23\n"
     ]
    }
   ],
   "source": [
    "print(maxSubArray([5,4,-1,7,8]))"
   ]
  },
  {
   "attachments": {},
   "cell_type": "markdown",
   "metadata": {},
   "source": [
    "#### Q4) Plus One"
   ]
  },
  {
   "cell_type": "code",
   "execution_count": 13,
   "metadata": {},
   "outputs": [
    {
     "name": "stdout",
     "output_type": "stream",
     "text": [
      "[1, 0, 0, 0, 0]\n"
     ]
    }
   ],
   "source": [
    "# https://leetcode.com/problems/plus-one/\n",
    "\n",
    "def plusOne(digits):\n",
    "    digits[-1] += 1\n",
    "    carry_forward = digits[-1]//10\n",
    "    digits[-1] = digits[-1]%10\n",
    "    for i in range(len(digits)-2,-1,-1):\n",
    "        num = digits[i] + carry_forward\n",
    "        digits[i] = num%10\n",
    "        carry_forward = num//10\n",
    "    if carry_forward == 0:\n",
    "        return digits\n",
    "    else:\n",
    "        digits.insert(0,carry_forward)\n",
    "        return digits\n",
    "    \n",
    "print(plusOne([9,9,9,9]))"
   ]
  },
  {
   "cell_type": "code",
   "execution_count": null,
   "metadata": {},
   "outputs": [],
   "source": []
  }
 ],
 "metadata": {
  "kernelspec": {
   "display_name": "Python 3",
   "language": "python",
   "name": "python3"
  },
  "language_info": {
   "codemirror_mode": {
    "name": "ipython",
    "version": 3
   },
   "file_extension": ".py",
   "mimetype": "text/x-python",
   "name": "python",
   "nbconvert_exporter": "python",
   "pygments_lexer": "ipython3",
   "version": "3.9.6"
  },
  "orig_nbformat": 4,
  "vscode": {
   "interpreter": {
    "hash": "31f2aee4e71d21fbe5cf8b01ff0e069b9275f58929596ceb00d14d90e3e16cd6"
   }
  }
 },
 "nbformat": 4,
 "nbformat_minor": 2
}
