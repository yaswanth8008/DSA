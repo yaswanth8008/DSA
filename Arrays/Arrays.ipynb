{
 "cells": [
  {
   "attachments": {},
   "cell_type": "markdown",
   "metadata": {},
   "source": [
    "#### Q1) Beggars Outside"
   ]
  },
  {
   "cell_type": "code",
   "execution_count": 177,
   "metadata": {},
   "outputs": [],
   "source": [
    "\n",
    "def each_beggar_got(A,B):\n",
    "    beggars_amt = [0]*A \n",
    "    for i in B:\n",
    "        start = i[0] - 1\n",
    "        end = i[1] - 1\n",
    "        value = i[2]\n",
    "        beggars_amt[start] += value\n",
    "        if end != A - 1:\n",
    "            beggars_amt[end+1] -= value \n",
    "    \n",
    "    for i in range(1,A):\n",
    "        beggars_amt[i] += beggars_amt[i-1] \n",
    "    return beggars_amt"
   ]
  },
  {
   "cell_type": "code",
   "execution_count": 178,
   "metadata": {},
   "outputs": [
    {
     "data": {
      "text/plain": [
       "[10, 55, 45, 25, 25]"
      ]
     },
     "execution_count": 178,
     "metadata": {},
     "output_type": "execute_result"
    }
   ],
   "source": [
    "each_beggar_got(5,[[1, 2, 10], [2, 3, 20], [2, 5, 25]])"
   ]
  },
  {
   "attachments": {},
   "cell_type": "markdown",
   "metadata": {},
   "source": [
    "#### Q2) Trapping Rain Water"
   ]
  },
  {
   "cell_type": "code",
   "execution_count": 179,
   "metadata": {},
   "outputs": [],
   "source": [
    "\n",
    "def trap(height):\n",
    "    water = 0\n",
    "    pref_max = [0]*len(height)\n",
    "    pref_max[0] = height[0]\n",
    "    for i in range(1,len(height)):\n",
    "        pref_max[i] = max(pref_max[i-1],height[i])\n",
    "    suf_max = [0]*len(height)\n",
    "    suf_max[-1] = height[-1]\n",
    "    for i in range(len(height)-2,-1,-1):\n",
    "        suf_max[i] = max(suf_max[i+1],height[i])\n",
    "    for i in range(1,len(height)-1):\n",
    "        amt = min(pref_max[i-1],suf_max[i+1]) - height[i]\n",
    "        if amt > 0:\n",
    "            water += amt\n",
    "    return water\n",
    "\n"
   ]
  },
  {
   "cell_type": "code",
   "execution_count": 180,
   "metadata": {},
   "outputs": [
    {
     "data": {
      "text/plain": [
       "6"
      ]
     },
     "execution_count": 180,
     "metadata": {},
     "output_type": "execute_result"
    }
   ],
   "source": [
    "trap([0,1,0,2,1,0,1,3,2,1,2,1])"
   ]
  },
  {
   "attachments": {},
   "cell_type": "markdown",
   "metadata": {},
   "source": [
    "#### Q3) Maximum Subarray - Kadane's Algorithm"
   ]
  },
  {
   "cell_type": "code",
   "execution_count": 181,
   "metadata": {},
   "outputs": [],
   "source": [
    "def maxSubArray(nums):\n",
    "    summ = 0\n",
    "    max_sum = nums[0]\n",
    "    for i in range(len(nums)):\n",
    "        summ += nums[i]\n",
    "        max_sum = max(max_sum,summ)\n",
    "        if summ < 0:\n",
    "            summ = 0\n",
    "    return max_sum\n",
    "\n"
   ]
  },
  {
   "cell_type": "code",
   "execution_count": 182,
   "metadata": {},
   "outputs": [],
   "source": [
    "def kadane(arr):\n",
    "    curr_sum = 0\n",
    "    max_sum = -10000000\n",
    "    for i in range(len(arr)):\n",
    "        curr_sum += arr[i]\n",
    "        if curr_sum >= max_sum:\n",
    "            max_sum = curr_sum \n",
    "        if curr_sum < 0:\n",
    "            curr_sum = 0\n",
    "    return max_sum"
   ]
  },
  {
   "cell_type": "code",
   "execution_count": 183,
   "metadata": {},
   "outputs": [
    {
     "data": {
      "text/plain": [
       "23"
      ]
     },
     "execution_count": 183,
     "metadata": {},
     "output_type": "execute_result"
    }
   ],
   "source": [
    "kadane([5,4,-1,7,8])"
   ]
  },
  {
   "cell_type": "code",
   "execution_count": 184,
   "metadata": {},
   "outputs": [
    {
     "name": "stdout",
     "output_type": "stream",
     "text": [
      "23\n"
     ]
    }
   ],
   "source": [
    "print(maxSubArray([5,4,-1,7,8]))"
   ]
  },
  {
   "attachments": {},
   "cell_type": "markdown",
   "metadata": {},
   "source": [
    "#### Q4) Plus One"
   ]
  },
  {
   "cell_type": "code",
   "execution_count": 185,
   "metadata": {},
   "outputs": [
    {
     "name": "stdout",
     "output_type": "stream",
     "text": [
      "[1, 0, 0, 0, 0]\n"
     ]
    }
   ],
   "source": [
    "# https://leetcode.com/problems/plus-one/\n",
    "\n",
    "def plusOne(digits):\n",
    "    digits[-1] += 1\n",
    "    carry_forward = digits[-1]//10\n",
    "    digits[-1] = digits[-1]%10\n",
    "    for i in range(len(digits)-2,-1,-1):\n",
    "        num = digits[i] + carry_forward\n",
    "        digits[i] = num%10\n",
    "        carry_forward = num//10\n",
    "    if carry_forward == 0:\n",
    "        return digits\n",
    "    else:\n",
    "        digits.insert(0,carry_forward)\n",
    "        return digits\n",
    "    \n",
    "print(plusOne([9,9,9,9]))"
   ]
  },
  {
   "cell_type": "code",
   "execution_count": 186,
   "metadata": {},
   "outputs": [],
   "source": [
    "def flip(A):\n",
    "    curr_sum = 0\n",
    "    max_sum = 0\n",
    "    ans = [0,0]\n",
    "    left = 0\n",
    "    right = 0\n",
    "    for i in range(len(A)):\n",
    "        if A[i] == '1':\n",
    "            curr_sum += -1\n",
    "        else:\n",
    "            curr_sum += 1\n",
    "        if curr_sum > max_sum:\n",
    "            max_sum = curr_sum\n",
    "            ans[0] = left + 1\n",
    "            ans[1] = right + 1\n",
    "        if curr_sum < 0:\n",
    "            curr_sum = 0\n",
    "            left = i + 1\n",
    "            right = i + 1\n",
    "        else:\n",
    "            right += 1\n",
    "\n",
    "    if max_sum == 0:\n",
    "        return []\n",
    "    else:\n",
    "        return ans"
   ]
  },
  {
   "cell_type": "code",
   "execution_count": 187,
   "metadata": {},
   "outputs": [
    {
     "data": {
      "text/plain": [
       "[3, 3]"
      ]
     },
     "execution_count": 187,
     "metadata": {},
     "output_type": "execute_result"
    }
   ],
   "source": [
    "flip(\"1101\")"
   ]
  },
  {
   "cell_type": "code",
   "execution_count": 188,
   "metadata": {},
   "outputs": [],
   "source": [
    "def maxset(A):\n",
    "    curr_sum = 0\n",
    "    max_sum = 0\n",
    "    d = []\n",
    "    left = 0\n",
    "    right = 0\n",
    "    for i in range(len(A)):\n",
    "        \n",
    "        curr_sum += A[i]\n",
    "        if curr_sum >= max_sum:\n",
    "            max_sum = curr_sum\n",
    "            right = i\n",
    "        if (curr_sum < max_sum) or (i == len(A)-1):\n",
    "            indices_list = [0,0,0]\n",
    "            indices_list[0] = left\n",
    "            indices_list[1] = right \n",
    "            indices_list[2] = max_sum\n",
    "            left = i + 1\n",
    "            right = i + 1\n",
    "            curr_sum = 0\n",
    "            max_sum = 0\n",
    "            d.append(indices_list)\n",
    "    max_sum = 0\n",
    "    for i in d:\n",
    "        max_sum = max(max_sum,i[2])\n",
    "    max_length = 0\n",
    "    for i in d:\n",
    "        if i[2] == max_sum:\n",
    "            length = i[2] - i[1] + 1\n",
    "            i[2] = length\n",
    "            max_length = max(length,max_length)\n",
    "\n",
    "    if max_length == 1:\n",
    "        return [0]\n",
    "\n",
    "    for i in d:\n",
    "        if i[2] == max_length:\n",
    "            return A[i[0]:i[1]+1]\n",
    "   \n"
   ]
  },
  {
   "cell_type": "code",
   "execution_count": 189,
   "metadata": {},
   "outputs": [
    {
     "data": {
      "text/plain": [
       "[2, 3, 1, 8]"
      ]
     },
     "execution_count": 189,
     "metadata": {},
     "output_type": "execute_result"
    }
   ],
   "source": [
    "maxset([1,2,5,-7,-8,2,3,1,8,-3,4,2,8])"
   ]
  },
  {
   "cell_type": "code",
   "execution_count": 190,
   "metadata": {},
   "outputs": [
    {
     "data": {
      "text/plain": [
       "[0]"
      ]
     },
     "execution_count": 190,
     "metadata": {},
     "output_type": "execute_result"
    }
   ],
   "source": [
    "maxset([-1,-1,-1,-1])"
   ]
  },
  {
   "cell_type": "code",
   "execution_count": 191,
   "metadata": {},
   "outputs": [
    {
     "data": {
      "text/plain": [
       "[0, 0]"
      ]
     },
     "execution_count": 191,
     "metadata": {},
     "output_type": "execute_result"
    }
   ],
   "source": [
    "maxset([0,0,-1,0])"
   ]
  },
  {
   "cell_type": "code",
   "execution_count": 192,
   "metadata": {},
   "outputs": [],
   "source": [
    "def maxset1(A):\n",
    "        d = {}\n",
    "        start = 0\n",
    "        end = 0\n",
    "        max_sum = -1000000000\n",
    "        global_max = -100000000\n",
    "        curr_sum = 0\n",
    "        for i in range(len(A)):\n",
    "            curr_sum += A[i]\n",
    "            max_sum = max(max_sum,curr_sum)\n",
    "        #     global_max = max(global_max,max_sum)\n",
    "            if curr_sum < max_sum and max_sum >= 0:\n",
    "                curr_sum = 0\n",
    "                end = i-1\n",
    "                d[(start,end)] = max_sum\n",
    "                max_sum = 0\n",
    "                start = i+1\n",
    "            elif max_sum < 0:\n",
    "                start = i + 1\n",
    "                end = i + 1\n",
    "                curr_sum = 0\n",
    "            else:\n",
    "                if i == len(A)-1:\n",
    "                    end = i\n",
    "                    d[(start,end)] = max_sum\n",
    "            global_max = max(global_max,max_sum)\n",
    "        max_segment_length = -100000000\n",
    "        d1 = {}\n",
    "        for i in d:\n",
    "            if d[i] == global_max:\n",
    "                segment_length = i[1]-i[0]+1\n",
    "                d1[i] = segment_length\n",
    "                max_segment_length = max(segment_length,max_segment_length)\n",
    "            \n",
    "        for i in d1:\n",
    "            if d1[i] == max_segment_length:\n",
    "                return A[i[0]:i[1]+1]\n",
    "        return []\n",
    "     "
   ]
  },
  {
   "cell_type": "code",
   "execution_count": 193,
   "metadata": {},
   "outputs": [
    {
     "data": {
      "text/plain": [
       "[]"
      ]
     },
     "execution_count": 193,
     "metadata": {},
     "output_type": "execute_result"
    }
   ],
   "source": [
    "maxset1([-1,-2,-3,-4])"
   ]
  },
  {
   "cell_type": "code",
   "execution_count": 194,
   "metadata": {},
   "outputs": [],
   "source": [
    "\n",
    "def solve(A, B, C, D, E):\n",
    "    sum_submatrices = []\n",
    "    rows = len(A)\n",
    "    columns = len(A[0])\n",
    "    for i in range(rows):\n",
    "        for j in range(1,columns):\n",
    "            A[i][j] += A[i][j-1]\n",
    "    for i in range(columns):\n",
    "        for j in range(1,rows):\n",
    "            A[j][i] += A[j-1][i]\n",
    "    for i in range(len(B)):\n",
    "        a1 = B[i] - 1\n",
    "        b1 = C[i] - 1\n",
    "        a2 = D[i] - 1\n",
    "        b2 = E[i] - 1\n",
    "        summ = A[a2][b2]\n",
    "        if a1 > 0:\n",
    "            summ -= A[a1-1][b2]\n",
    "        if b1 > 0:\n",
    "            summ -= A[a2][b1-1] \n",
    "        if a1 > 0 and b1 > 0:\n",
    "            summ += A[a1-1][b1-1]\n",
    "        sum_submatrices.append(summ)\n",
    "    print(A)\n",
    "    return sum_submatrices \n",
    "\n",
    "        \n"
   ]
  },
  {
   "cell_type": "code",
   "execution_count": 195,
   "metadata": {},
   "outputs": [],
   "source": [
    "A = [[1, 2, 3],\n",
    "    [4, 5, 6],\n",
    "    [7, 8, 9]]\n",
    "B = [1, 2]\n",
    "C = [1, 2]\n",
    "D = [2, 3]\n",
    "E = [2, 3]"
   ]
  },
  {
   "cell_type": "code",
   "execution_count": 196,
   "metadata": {},
   "outputs": [
    {
     "name": "stdout",
     "output_type": "stream",
     "text": [
      "[[1, 3, 6], [5, 12, 21], [12, 27, 45]]\n"
     ]
    },
    {
     "data": {
      "text/plain": [
       "[12, 28]"
      ]
     },
     "execution_count": 196,
     "metadata": {},
     "output_type": "execute_result"
    }
   ],
   "source": [
    "solve(A,B,C,D,E)"
   ]
  },
  {
   "attachments": {},
   "cell_type": "markdown",
   "metadata": {},
   "source": [
    "#### Sum of all Submatrices"
   ]
  },
  {
   "cell_type": "code",
   "execution_count": 197,
   "metadata": {},
   "outputs": [],
   "source": [
    "def solve(A):\n",
    "    n = len(A)\n",
    "    summ = 0\n",
    "    for i in range(n):\n",
    "        count = 0\n",
    "        for j in range(n):\n",
    "            count = (i+1)*(j+1)*(n-i)*(n-j)\n",
    "            summ += count*A[i][j]\n",
    "    return summ"
   ]
  },
  {
   "cell_type": "code",
   "execution_count": 198,
   "metadata": {},
   "outputs": [
    {
     "data": {
      "text/plain": [
       "16"
      ]
     },
     "execution_count": 198,
     "metadata": {},
     "output_type": "execute_result"
    }
   ],
   "source": [
    "solve([[1,1],[1,1]])"
   ]
  },
  {
   "attachments": {},
   "cell_type": "markdown",
   "metadata": {},
   "source": [
    "#### Q. Search in a row wise and column wise sorted matrix"
   ]
  },
  {
   "cell_type": "code",
   "execution_count": 199,
   "metadata": {},
   "outputs": [],
   "source": [
    "\n",
    "\n",
    "def solve(A, B):\n",
    "    i = 0\n",
    "    j = len(A[0]) - 1\n",
    "    n = len(A)\n",
    "    m = len(A[0])\n",
    "    while i < n and j >= 0:\n",
    "        if A[i][j] < B:\n",
    "            i += 1\n",
    "        elif A[i][j] > B:\n",
    "            j -= 1\n",
    "        else:\n",
    "            k = 0\n",
    "            while k < m:\n",
    "                if A[i][k] == B:\n",
    "                    return (i+1)*1009 + (k+1)\n",
    "                else:\n",
    "                    k += 1\n",
    "    return -1"
   ]
  },
  {
   "cell_type": "code",
   "execution_count": 200,
   "metadata": {},
   "outputs": [],
   "source": [
    "\n",
    "def solve_max_sum(A):\n",
    "    m = len(A[0])\n",
    "    n = len(A)\n",
    "    for i in range(n):\n",
    "        for j in range(m-2,-1,-1):\n",
    "            A[i][j] += A[i][j+1]\n",
    "    for i in range(m):\n",
    "        for j in range(n-2,-1,-1):\n",
    "            A[j][i] += A[j+1][i]\n",
    "    max_sum = -1000000\n",
    "    for i in range(n):\n",
    "        for j in range(m):\n",
    "            max_sum = max(max_sum,A[i][j])\n",
    "    return max_sum"
   ]
  },
  {
   "cell_type": "code",
   "execution_count": 201,
   "metadata": {},
   "outputs": [
    {
     "data": {
      "text/plain": [
       "71"
      ]
     },
     "execution_count": 201,
     "metadata": {},
     "output_type": "execute_result"
    }
   ],
   "source": [
    "solve_max_sum([[-10,-6,-2,1],[-5,-4,4,5],[-3,0,6,20],[2,5,10,25]])"
   ]
  },
  {
   "cell_type": "code",
   "execution_count": 202,
   "metadata": {},
   "outputs": [],
   "source": [
    "def solve(self, A):\n",
    "    n = len(A)\n",
    "    m = len(A[0])\n",
    "    summs = []\n",
    "    maximum_sum_submatrix = -100000\n",
    "                \n",
    "    def kadane(arr):\n",
    "        curr_sum = 0\n",
    "        max_sum = -10000000\n",
    "        for i in range(len(arr)):\n",
    "            curr_sum += arr[i]\n",
    "            if curr_sum >= max_sum:\n",
    "                max_sum = curr_sum \n",
    "            if curr_sum < 0:\n",
    "                curr_sum = 0\n",
    "        return max_sum\n",
    "    for i in range(n):\n",
    "        arr_sum = [0]*m\n",
    "        for j in range(i,n):\n",
    "            for k in range(m):\n",
    "                arr_sum[k] += A[j][k]\n",
    "            maximum_sum_submatrix = max(maximum_sum_submatrix,kadane(arr_sum))\n",
    "    return maximum_sum_submatrix\n",
    "\n",
    "            \n",
    "            \n",
    "            \n",
    "\n",
    "\n",
    "   "
   ]
  },
  {
   "cell_type": "code",
   "execution_count": 203,
   "metadata": {},
   "outputs": [],
   "source": [
    "# A = [[1,2,3],[1,1,1],[2,4,3]]\n",
    "A = [[1,2,3],[1,1,1]]\n",
    "# A = [[-6,-6],[-29,-8],[3,-8],[-15,2],[25,25],[20,-5]]"
   ]
  },
  {
   "cell_type": "code",
   "execution_count": 204,
   "metadata": {},
   "outputs": [
    {
     "name": "stdout",
     "output_type": "stream",
     "text": [
      "[1, 2, 3]\n",
      "[2, 3, 4]\n",
      "[1, 1, 1]\n"
     ]
    },
    {
     "data": {
      "text/plain": [
       "[[1, 2, 3], [2, 3, 4], [1, 1, 1]]"
      ]
     },
     "execution_count": 204,
     "metadata": {},
     "output_type": "execute_result"
    }
   ],
   "source": [
    "max_submatrix_sum(A)"
   ]
  },
  {
   "cell_type": "code",
   "execution_count": 205,
   "metadata": {},
   "outputs": [],
   "source": [
    "def max_sum_window(arr,k):\n",
    "        curr_sum = 0\n",
    "        n = len(arr)\n",
    "        for i in range(n):\n",
    "            curr_sum += arr[i]\n",
    "            arr[i] = curr_sum\n",
    "        max_sum = arr[k-1]\n",
    "        for j in range(k,n):\n",
    "            max_sum = max(max_sum,arr[j]-arr[j-k])\n",
    "        return max_sum"
   ]
  },
  {
   "cell_type": "code",
   "execution_count": 206,
   "metadata": {},
   "outputs": [
    {
     "data": {
      "text/plain": [
       "48"
      ]
     },
     "execution_count": 206,
     "metadata": {},
     "output_type": "execute_result"
    }
   ],
   "source": [
    "max_sum_window([12, 17, 15, 16, 12],3)"
   ]
  },
  {
   "cell_type": "markdown",
   "metadata": {},
   "source": [
    "#### Maximum Sum Square SubMatrix"
   ]
  },
  {
   "cell_type": "code",
   "execution_count": 210,
   "metadata": {},
   "outputs": [],
   "source": [
    "def Maximum_Sum_Square_SubMatrix (A, B):\n",
    "\n",
    "    def max_sum_window(arr,k):\n",
    "            curr_sum = 0\n",
    "            n = len(arr)\n",
    "            for i in range(n):\n",
    "                curr_sum += arr[i]\n",
    "                arr[i] = curr_sum\n",
    "            max_sum = arr[k-1]\n",
    "            for j in range(k,n):\n",
    "                max_sum = max(max_sum,arr[j]-arr[j-k])\n",
    "            return max_sum\n",
    "\n",
    "    n = len(A)\n",
    "    maximum_sum = -10000000\n",
    "    for i in range(n):\n",
    "        arr = [0]*n\n",
    "        for j in range(i,n):\n",
    "            for k in range(n):\n",
    "                arr[k] += A[j][k]\n",
    "            if j - i + 1 == B:\n",
    "                maximum_sum = max(maximum_sum,max_sum_window(arr,B))\n",
    "    return maximum_sum\n"
   ]
  },
  {
   "cell_type": "code",
   "execution_count": 211,
   "metadata": {},
   "outputs": [],
   "source": [
    "A = [\n",
    "    [1, 1, 1, 1, 1],\n",
    "    [2, 2, 2, 2, 2],\n",
    "    [3, 8, 6, 7, 3],\n",
    "    [4, 4, 4, 4, 4],\n",
    "    [5, 5, 5, 5, 5],\n",
    "    ]\n",
    "B = 3"
   ]
  },
  {
   "cell_type": "code",
   "execution_count": 212,
   "metadata": {},
   "outputs": [
    {
     "data": {
      "text/plain": [
       "48"
      ]
     },
     "execution_count": 212,
     "metadata": {},
     "output_type": "execute_result"
    }
   ],
   "source": [
    "Maximum_Sum_Square_SubMatrix(A,B)"
   ]
  },
  {
   "cell_type": "code",
   "execution_count": 213,
   "metadata": {},
   "outputs": [],
   "source": [
    "def firstMissingPositive(self, A):\n",
    "    n = len(A)\n",
    "    for i in range(n):\n",
    "        while A[i] < n and A[i] >= 0 and (A[i] != i+1):\n",
    "            target_index = A[i] - 1\n",
    "            if A[i] == A[target_index]:\n",
    "                break\n",
    "            A[i],A[target_index] = A[target_index],A[i]\n",
    "    for i in range(n):\n",
    "        if A[i] != i + 1:\n",
    "            return i + 1\n",
    "    return n + 1"
   ]
  },
  {
   "cell_type": "code",
   "execution_count": 375,
   "metadata": {},
   "outputs": [],
   "source": [
    "def insert(intervals, newInterval):\n",
    "    Output_intervals = []\n",
    "    merged = None\n",
    "    def NonOverlapping(interval_1,interval_2):\n",
    "        if interval_1[0] > interval_2[1] or interval_2[0] > interval_1[1]:\n",
    "            return True\n",
    "\n",
    "    for i in range(len(intervals)):\n",
    "\n",
    "        interval = intervals[i]\n",
    "        if NonOverlapping(interval,newInterval):\n",
    "            if merged == True:\n",
    "                Output_intervals.append(interval)\n",
    "            else:\n",
    "                if min(interval[0],interval[1]) < min(newInterval[0],newInterval[1]):\n",
    "                    Output_intervals.append(interval)\n",
    "                else:\n",
    "                    Output_intervals.append(newInterval)\n",
    "                    newInterval = interval\n",
    "          \n",
    "        else:\n",
    "            newInterval = [min(interval[0],newInterval[0]),max(interval[1],newInterval[1])]\n",
    "            if i != len(intervals)-1:\n",
    "                next_interval = intervals[i+1]\n",
    "                if NonOverlapping(newInterval,next_interval):\n",
    "                    \n",
    "                    Output_intervals.append(newInterval)\n",
    "                    merged = True\n",
    "                    \n",
    "            else:\n",
    "                Output_intervals.append(newInterval)\n",
    "                merged = True\n",
    "            \n",
    "    if merged != True:\n",
    "        Output_intervals.append(newInterval)\n",
    "\n",
    "    \n",
    "    return Output_intervals"
   ]
  },
  {
   "cell_type": "code",
   "execution_count": 376,
   "metadata": {},
   "outputs": [],
   "source": [
    "# intervals = [[1,5],[8,10],[11,14],[15,20],[20,24]]\n",
    "# new_interval = [10,22]\n",
    "# intervals = [[1,3],[4,7],[10,14],[16,19],[21,24],[27,30],[32,35],[38,41]]\n",
    "# new_interval = [12,22]\n",
    "# intervals = [[1,2],[3,6]]\n",
    "# new_interval = [10,8]\n",
    "intervals = [[1,2],[10,8]]\n",
    "new_interval = [3,6]"
   ]
  },
  {
   "cell_type": "code",
   "execution_count": 377,
   "metadata": {},
   "outputs": [
    {
     "data": {
      "text/plain": [
       "[[1, 2], [3, 6], [10, 8]]"
      ]
     },
     "execution_count": 377,
     "metadata": {},
     "output_type": "execute_result"
    }
   ],
   "source": [
    "insert(intervals,new_interval)"
   ]
  },
  {
   "cell_type": "code",
   "execution_count": 440,
   "metadata": {},
   "outputs": [],
   "source": [
    "class Interval:\n",
    "    def __init__(self, s=0, e=0):\n",
    "        self.start = s\n",
    "        self.end = e"
   ]
  },
  {
   "cell_type": "code",
   "execution_count": 448,
   "metadata": {},
   "outputs": [],
   "source": [
    "a = Interval(1,2)\n",
    "b = Interval(4,7)\n",
    "c = Interval(-1,0)"
   ]
  },
  {
   "cell_type": "code",
   "execution_count": 449,
   "metadata": {},
   "outputs": [],
   "source": [
    "l = [a,b,c]"
   ]
  },
  {
   "cell_type": "code",
   "execution_count": 450,
   "metadata": {},
   "outputs": [],
   "source": [
    "l.sort(key=lambda x: x.start)"
   ]
  },
  {
   "cell_type": "code",
   "execution_count": null,
   "metadata": {},
   "outputs": [],
   "source": []
  },
  {
   "cell_type": "code",
   "execution_count": 451,
   "metadata": {},
   "outputs": [
    {
     "data": {
      "text/plain": [
       "[<__main__.Interval at 0x105979100>,\n",
       " <__main__.Interval at 0x105de66d0>,\n",
       " <__main__.Interval at 0x105f4cf10>]"
      ]
     },
     "execution_count": 451,
     "metadata": {},
     "output_type": "execute_result"
    }
   ],
   "source": [
    "l"
   ]
  },
  {
   "cell_type": "code",
   "execution_count": 452,
   "metadata": {},
   "outputs": [
    {
     "name": "stdout",
     "output_type": "stream",
     "text": [
      "-1\n",
      "0\n",
      "1\n",
      "2\n",
      "4\n",
      "7\n"
     ]
    }
   ],
   "source": [
    "for i in range(len(l)):\n",
    "    print(l[i].start)\n",
    "    print(l[i].end)\n"
   ]
  },
  {
   "cell_type": "code",
   "execution_count": 378,
   "metadata": {},
   "outputs": [],
   "source": [
    "def swap(A,B):\n",
    "    n = len(A)\n",
    "    num_swaps = 0\n",
    "    for i in range(n-1):\n",
    "        if A[i] < B:\n",
    "            continue \n",
    "        else:\n",
    "            j = i + 1\n",
    "            while j < n:\n",
    "                if A[j] < B:\n",
    "                    A[i],A[j] = A[j],A[i]\n",
    "                    num_swaps += 1\n",
    "                    break\n",
    "                else:\n",
    "                    j += 1 \n",
    "    return A,num_swaps\n",
    "\n",
    "                \n"
   ]
  },
  {
   "cell_type": "code",
   "execution_count": 393,
   "metadata": {},
   "outputs": [],
   "source": [
    "def swap(A,B):\n",
    "    i = 0\n",
    "    j = len(A) - 1\n",
    "    num_swaps = 0\n",
    "    while i < j:\n",
    "        if A[i] <= B:\n",
    "            i += 1\n",
    "        else:\n",
    "            if A[j] < B:\n",
    "                A[i],A[j] = A[j],A[i]\n",
    "                num_swaps += 1\n",
    "                j -= 1\n",
    "            else:\n",
    "                j -= 1\n",
    "    return num_swaps"
   ]
  },
  {
   "cell_type": "code",
   "execution_count": 394,
   "metadata": {},
   "outputs": [
    {
     "data": {
      "text/plain": [
       "2"
      ]
     },
     "execution_count": 394,
     "metadata": {},
     "output_type": "execute_result"
    }
   ],
   "source": [
    "swap([1,12,10,3,14,10,5],8)"
   ]
  },
  {
   "cell_type": "code",
   "execution_count": 395,
   "metadata": {},
   "outputs": [],
   "source": [
    "A = [5, 17, 100, 11]\n",
    "B = 20"
   ]
  },
  {
   "cell_type": "code",
   "execution_count": 396,
   "metadata": {},
   "outputs": [
    {
     "data": {
      "text/plain": [
       "1"
      ]
     },
     "execution_count": 396,
     "metadata": {},
     "output_type": "execute_result"
    }
   ],
   "source": [
    "swap(A,B)"
   ]
  },
  {
   "cell_type": "code",
   "execution_count": 423,
   "metadata": {},
   "outputs": [],
   "source": [
    "def solve(A, B):\n",
    "    window_size = 0\n",
    "    swaps = 0\n",
    "    for i in range(len(A)):\n",
    "        if A[i] <= B:\n",
    "            window_size += 1\n",
    "    cnt = 0    \n",
    "    for i in range(window_size):\n",
    "        if A[i] > B:\n",
    "            cnt += 1\n",
    "    i = 0\n",
    "    j = window_size\n",
    "    new_cnt = cnt\n",
    "    while j < len(A):\n",
    "        if A[i] > B:\n",
    "            cnt -= 1\n",
    "        if A[j] > B:\n",
    "            cnt += 1\n",
    "        new_cnt = min(new_cnt,cnt)\n",
    "        i += 1\n",
    "        j += 1\n",
    "    return new_cnt\n"
   ]
  },
  {
   "cell_type": "code",
   "execution_count": 424,
   "metadata": {},
   "outputs": [],
   "source": [
    "A = [12,10,1,3,5,10,14]\n",
    "B = 8"
   ]
  },
  {
   "cell_type": "code",
   "execution_count": 425,
   "metadata": {},
   "outputs": [
    {
     "name": "stdout",
     "output_type": "stream",
     "text": [
      "2\n"
     ]
    },
    {
     "data": {
      "text/plain": [
       "0"
      ]
     },
     "execution_count": 425,
     "metadata": {},
     "output_type": "execute_result"
    }
   ],
   "source": [
    "solve(A,B)"
   ]
  },
  {
   "cell_type": "code",
   "execution_count": 426,
   "metadata": {},
   "outputs": [
    {
     "name": "stdout",
     "output_type": "stream",
     "text": [
      "2\n"
     ]
    },
    {
     "data": {
      "text/plain": [
       "2"
      ]
     },
     "execution_count": 426,
     "metadata": {},
     "output_type": "execute_result"
    }
   ],
   "source": [
    "solve([1,12,10,3,14,10,5],8)"
   ]
  },
  {
   "cell_type": "code",
   "execution_count": 433,
   "metadata": {},
   "outputs": [],
   "source": [
    "def solve(A):\n",
    "    cnt = 0\n",
    "    for i in range(len(A)):\n",
    "        while A[i] != i:\n",
    "            target_index = A[i] \n",
    "            A[i],A[target_index] = A[target_index],A[i]\n",
    "            cnt += 1\n",
    "    return cnt"
   ]
  },
  {
   "cell_type": "code",
   "execution_count": 434,
   "metadata": {},
   "outputs": [
    {
     "data": {
      "text/plain": [
       "4"
      ]
     },
     "execution_count": 434,
     "metadata": {},
     "output_type": "execute_result"
    }
   ],
   "source": [
    "solve([1,2,3,4,0])"
   ]
  },
  {
   "cell_type": "code",
   "execution_count": null,
   "metadata": {},
   "outputs": [],
   "source": [
    "A : [ (54, 75), (56, 60), (61, 86), (22, 43), (56, 87), (32, 53), (14, 81), (64, 65), (9, 42), (12, 33), (22, 58), (84, 90), (27, 59), (41, 48), (43, 47), (22, 29), (16, 23), (41, 72), (15, 87), (20, 59), (45, 84), (14, 77), (72, 93), (20, 58), (47, 53), (25, 88), (5, 89), (34, 97), (14, 47) ]"
   ]
  },
  {
   "cell_type": "code",
   "execution_count": 476,
   "metadata": {},
   "outputs": [],
   "source": [
    "A = [ (47, 76), (51, 99), (28, 78), (54, 94), (12, 72), (31, 72), (12, 55), (24, 40), (59, 79), (41, 100), (46, 99), (5, 27), (13, 23), (9, 69), (39, 75), (51, 53), (81, 98), (14, 14), (27, 89), (73, 78), (28, 35), (19, 30), (39, 87), (60, 94), (71, 90), (9, 44), (56, 79), (58, 70), (25, 76), (18, 46), (14, 96), (43, 95), (70, 77), (13, 59), (52, 91), (47, 56), (63, 67), (28, 39), (51, 92), (30, 66), (4, 4), (29, 92), (58, 90), (6, 20), (31, 93), (52, 75), (41, 41), (64, 89), (64, 66), (24, 90), (25, 46), (39, 49), (15, 99), (50, 99), (9, 34), (58, 96), (85, 86), (13, 68), (45, 57), (55, 56), (60, 74), (89, 98), (23, 79), (16, 59), (56, 57), (54, 85), (16, 29), (72, 86), (10, 45), (6, 25), (19, 55), (21, 21), (17, 83), (49, 86), (67, 84), (8, 48), (63, 85), (5, 31), (43, 48), (57, 62), (22, 68), (48, 92), (36, 77), (27, 63), (39, 83), (38, 54), (31, 69), (36, 65), (52, 68) ]"
   ]
  },
  {
   "cell_type": "code",
   "execution_count": 503,
   "metadata": {},
   "outputs": [],
   "source": [
    "A = [ (47, 76), (51, 99), (28, 78), (54, 94), (12, 72), (31, 72), (12, 55), (24, 40), (59, 79), (41, 100), (46, 99), (5, 27), (13, 23), (9, 69), (39, 75), (51, 53), (81, 98), (14, 14), (27, 89), (73, 78), (28, 35), (19, 30), (39, 87), (60, 94), (71, 90), (9, 44), (56, 79), (58, 70), (25, 76), (18, 46), (14, 96), (43, 95), (70, 77), (13, 59), (52, 91), (47, 56), (63, 67), (28, 39), (51, 92), (30, 66), (4, 4), (29, 92), (58, 90), (6, 20), (31, 93), (52, 75), (41, 41), (64, 89), (64, 66), (24, 90), (25, 46), (39, 49), (15, 99), (50, 99), (9, 34), (58, 96), (85, 86), (13, 68), (45, 57), (55, 56), (60, 74), (89, 98), (23, 79), (16, 59), (56, 57), (54, 85), (16, 29), (72, 86), (10, 45), (6, 25), (19, 55), (21, 21), (17, 83), (49, 86), (67, 84), (8, 48), (63, 85), (5, 31), (43, 48), (57, 62), (22, 68), (48, 92), (36, 77), (27, 63), (39, 83), (38, 54), (31, 69), (36, 65), (52, 68) ]"
   ]
  },
  {
   "cell_type": "code",
   "execution_count": 504,
   "metadata": {},
   "outputs": [],
   "source": [
    "A = sorted(A)\n",
    "A = [list(i) for i in A]"
   ]
  },
  {
   "cell_type": "code",
   "execution_count": 505,
   "metadata": {},
   "outputs": [
    {
     "name": "stdout",
     "output_type": "stream",
     "text": [
      "[4, 4]\n",
      "[5, 27]\n",
      "[5, 31]\n",
      "[6, 20]\n",
      "[6, 25]\n",
      "[8, 48]\n",
      "[9, 34]\n",
      "[9, 44]\n",
      "[9, 69]\n",
      "[10, 45]\n",
      "[12, 55]\n",
      "[12, 72]\n",
      "[13, 23]\n",
      "[13, 59]\n",
      "[13, 68]\n",
      "[14, 14]\n",
      "[14, 96]\n",
      "[15, 99]\n",
      "[16, 29]\n",
      "[16, 59]\n",
      "[17, 83]\n",
      "[18, 46]\n",
      "[19, 30]\n",
      "[19, 55]\n",
      "[21, 21]\n",
      "[22, 68]\n",
      "[23, 79]\n",
      "[24, 40]\n",
      "[24, 90]\n",
      "[25, 46]\n",
      "[25, 76]\n",
      "[27, 63]\n",
      "[27, 89]\n",
      "[28, 35]\n",
      "[28, 39]\n",
      "[28, 78]\n",
      "[29, 92]\n",
      "[30, 66]\n",
      "[31, 69]\n",
      "[31, 72]\n",
      "[31, 93]\n",
      "[36, 65]\n",
      "[36, 77]\n",
      "[38, 54]\n",
      "[39, 49]\n",
      "[39, 75]\n",
      "[39, 83]\n",
      "[39, 87]\n",
      "[41, 41]\n",
      "[41, 100]\n",
      "[43, 48]\n",
      "[43, 95]\n",
      "[45, 57]\n",
      "[46, 99]\n",
      "[47, 56]\n",
      "[47, 76]\n",
      "[48, 92]\n",
      "[49, 86]\n",
      "[50, 99]\n",
      "[51, 53]\n",
      "[51, 92]\n",
      "[51, 99]\n",
      "[52, 68]\n",
      "[52, 75]\n",
      "[52, 91]\n",
      "[54, 85]\n",
      "[54, 94]\n",
      "[55, 56]\n",
      "[56, 57]\n",
      "[56, 79]\n",
      "[57, 62]\n",
      "[58, 70]\n",
      "[58, 90]\n",
      "[58, 96]\n",
      "[59, 79]\n",
      "[60, 74]\n",
      "[60, 94]\n",
      "[63, 67]\n",
      "[63, 85]\n",
      "[64, 66]\n",
      "[64, 89]\n",
      "[67, 84]\n",
      "[70, 77]\n",
      "[71, 90]\n",
      "[72, 86]\n",
      "[73, 78]\n",
      "[81, 98]\n",
      "[85, 86]\n",
      "[89, 98]\n"
     ]
    }
   ],
   "source": [
    "for i in A:\n",
    "    print(i)"
   ]
  },
  {
   "cell_type": "code",
   "execution_count": 506,
   "metadata": {},
   "outputs": [],
   "source": [
    "# A = [[1,2],[4,7],[9,11]]"
   ]
  },
  {
   "cell_type": "code",
   "execution_count": 507,
   "metadata": {},
   "outputs": [],
   "source": [
    "def merge(intervals):\n",
    "    output_intervals = []\n",
    "    intervals.sort(key=lambda x: (x[0],x[1]))\n",
    "    new_interval = intervals[0]\n",
    "    for i in range(1,len(intervals)):\n",
    "        i = intervals[i]\n",
    "        if i[0]<= new_interval[1]:\n",
    "            new_interval[0] = min(i[0],new_interval[0])\n",
    "            new_interval[1] = max(i[1],new_interval[1])\n",
    "        else:\n",
    "            dummy_interval = new_interval.copy()\n",
    "            output_intervals.append(dummy_interval)\n",
    "            new_interval[0] = i[0]\n",
    "            new_interval[1] = i[1]\n",
    "    \n",
    "\n",
    "    output_intervals.append(new_interval)\n",
    "    return output_intervals\n"
   ]
  },
  {
   "cell_type": "code",
   "execution_count": 508,
   "metadata": {},
   "outputs": [
    {
     "data": {
      "text/plain": [
       "[[4, 4], [5, 100]]"
      ]
     },
     "execution_count": 508,
     "metadata": {},
     "output_type": "execute_result"
    }
   ],
   "source": [
    "merge(A)"
   ]
  },
  {
   "cell_type": "code",
   "execution_count": 471,
   "metadata": {},
   "outputs": [
    {
     "name": "stdout",
     "output_type": "stream",
     "text": [
      "[[1, 3], [2, 6], [5, 10], [5, 8], [8, 12]]\n"
     ]
    }
   ],
   "source": [
    "intervals = [[5, 10], [1, 3], [5, 8],[8, 12], [2, 6]]\n",
    "\n",
    "# Sort by the start time of the interval\n",
    "intervals.sort(key=lambda x: x[0])\n",
    "\n",
    "print(intervals)\n"
   ]
  },
  {
   "cell_type": "code",
   "execution_count": null,
   "metadata": {},
   "outputs": [],
   "source": []
  }
 ],
 "metadata": {
  "kernelspec": {
   "display_name": "Python 3",
   "language": "python",
   "name": "python3"
  },
  "language_info": {
   "codemirror_mode": {
    "name": "ipython",
    "version": 3
   },
   "file_extension": ".py",
   "mimetype": "text/x-python",
   "name": "python",
   "nbconvert_exporter": "python",
   "pygments_lexer": "ipython3",
   "version": "3.9.6 (default, Nov 11 2024, 03:15:38) \n[Clang 16.0.0 (clang-1600.0.26.6)]"
  },
  "orig_nbformat": 4,
  "vscode": {
   "interpreter": {
    "hash": "31f2aee4e71d21fbe5cf8b01ff0e069b9275f58929596ceb00d14d90e3e16cd6"
   }
  }
 },
 "nbformat": 4,
 "nbformat_minor": 2
}
